{
 "cells": [
  {
   "cell_type": "markdown",
   "metadata": {},
   "source": [
    "# Chose best k value for KNN imputer"
   ]
  },
  {
   "cell_type": "code",
   "execution_count": 141,
   "metadata": {},
   "outputs": [],
   "source": [
    "import pandas as pd\n",
    "import numpy as np\n",
    "\n",
    "import matplotlib.pyplot as plt\n",
    "import seaborn as sns\n",
    "import plotly.express as px\n",
    "sns.set()\n",
    "\n",
    "from sklearn.impute import KNNImputer"
   ]
  },
  {
   "cell_type": "code",
   "execution_count": 142,
   "metadata": {},
   "outputs": [
    {
     "data": {
      "text/html": [
       "<div>\n",
       "<style scoped>\n",
       "    .dataframe tbody tr th:only-of-type {\n",
       "        vertical-align: middle;\n",
       "    }\n",
       "\n",
       "    .dataframe tbody tr th {\n",
       "        vertical-align: top;\n",
       "    }\n",
       "\n",
       "    .dataframe thead th {\n",
       "        text-align: right;\n",
       "    }\n",
       "</style>\n",
       "<table border=\"1\" class=\"dataframe\">\n",
       "  <thead>\n",
       "    <tr style=\"text-align: right;\">\n",
       "      <th></th>\n",
       "      <th>Anno di costituzione</th>\n",
       "      <th>Dipendenti\\nAnno - 1</th>\n",
       "      <th>Dipendenti\\nAnno - 2</th>\n",
       "      <th>Dipendenti\\nAnno - 3</th>\n",
       "      <th>Ricavi vendite e prestazioni\\nmigl EUR\\nAnno - 1</th>\n",
       "      <th>Ricavi vendite e prestazioni\\nmigl EUR\\nAnno - 2</th>\n",
       "      <th>Ricavi vendite e prestazioni\\nmigl EUR\\nAnno - 3</th>\n",
       "      <th>TOT. VAL. DELLA PRODUZIONE\\nmigl EUR\\nAnno - 1</th>\n",
       "      <th>TOT. VAL. DELLA PRODUZIONE\\nmigl EUR\\nAnno - 2</th>\n",
       "      <th>TOT. VAL. DELLA PRODUZIONE\\nmigl EUR\\nAnno - 3</th>\n",
       "      <th>...</th>\n",
       "      <th>Redditività di tutto il capitale investito (ROI) (%)\\n%\\nAnno - 3</th>\n",
       "      <th>Rotaz. cap. investito (volte)\\nAnno - 1</th>\n",
       "      <th>Rotaz. cap. investito (volte)\\nAnno - 2</th>\n",
       "      <th>Rotaz. cap. investito (volte)\\nAnno - 3</th>\n",
       "      <th>Indice corrente\\nAnno - 1</th>\n",
       "      <th>Indice corrente\\nAnno - 2</th>\n",
       "      <th>Indice corrente\\nAnno - 3</th>\n",
       "      <th>Rapporto di indebitamento\\nAnno - 1</th>\n",
       "      <th>Rapporto di indebitamento\\nAnno - 2</th>\n",
       "      <th>Rapporto di indebitamento\\nAnno - 3</th>\n",
       "    </tr>\n",
       "  </thead>\n",
       "  <tbody>\n",
       "    <tr>\n",
       "      <th>0</th>\n",
       "      <td>74</td>\n",
       "      <td>12318</td>\n",
       "      <td>12339</td>\n",
       "      <td>12397</td>\n",
       "      <td>5.685940e+08</td>\n",
       "      <td>5.666451e+08</td>\n",
       "      <td>5.679715e+08</td>\n",
       "      <td>5.791711e+08</td>\n",
       "      <td>575005635.0</td>\n",
       "      <td>5.816119e+08</td>\n",
       "      <td>...</td>\n",
       "      <td>0.98</td>\n",
       "      <td>1.03</td>\n",
       "      <td>0.98</td>\n",
       "      <td>0.98</td>\n",
       "      <td>0.92</td>\n",
       "      <td>0.95</td>\n",
       "      <td>0.92</td>\n",
       "      <td>2.63</td>\n",
       "      <td>2.76</td>\n",
       "      <td>2.86</td>\n",
       "    </tr>\n",
       "    <tr>\n",
       "      <th>1</th>\n",
       "      <td>42</td>\n",
       "      <td>11663</td>\n",
       "      <td>11744</td>\n",
       "      <td>11806</td>\n",
       "      <td>6.036289e+08</td>\n",
       "      <td>5.798254e+08</td>\n",
       "      <td>5.593294e+05</td>\n",
       "      <td>6.231545e+05</td>\n",
       "      <td>595220388.0</td>\n",
       "      <td>5.715666e+08</td>\n",
       "      <td>...</td>\n",
       "      <td>8.12</td>\n",
       "      <td>1.36</td>\n",
       "      <td>1.33</td>\n",
       "      <td>1.37</td>\n",
       "      <td>1.36</td>\n",
       "      <td>1.35</td>\n",
       "      <td>1.33</td>\n",
       "      <td>2.46</td>\n",
       "      <td>2.58</td>\n",
       "      <td>2.69</td>\n",
       "    </tr>\n",
       "    <tr>\n",
       "      <th>2</th>\n",
       "      <td>48</td>\n",
       "      <td>10385</td>\n",
       "      <td>10466</td>\n",
       "      <td>10275</td>\n",
       "      <td>4.198258e+08</td>\n",
       "      <td>4.212691e+08</td>\n",
       "      <td>4.036268e+08</td>\n",
       "      <td>4.360835e+08</td>\n",
       "      <td>438296558.0</td>\n",
       "      <td>4.227815e+08</td>\n",
       "      <td>...</td>\n",
       "      <td>25.24</td>\n",
       "      <td>1.93</td>\n",
       "      <td>1.9</td>\n",
       "      <td>1.96</td>\n",
       "      <td>1.67</td>\n",
       "      <td>1.61</td>\n",
       "      <td>1.72</td>\n",
       "      <td>2.91</td>\n",
       "      <td>3.09</td>\n",
       "      <td>2.86</td>\n",
       "    </tr>\n",
       "    <tr>\n",
       "      <th>3</th>\n",
       "      <td>37</td>\n",
       "      <td>7009</td>\n",
       "      <td>6592</td>\n",
       "      <td>6600</td>\n",
       "      <td>5.942300e+05</td>\n",
       "      <td>5.472078e+08</td>\n",
       "      <td>5.070680e+05</td>\n",
       "      <td>5.992040e+08</td>\n",
       "      <td>551965897.0</td>\n",
       "      <td>5.132697e+05</td>\n",
       "      <td>...</td>\n",
       "      <td>11.94</td>\n",
       "      <td>1.93</td>\n",
       "      <td>1.78</td>\n",
       "      <td>1.57</td>\n",
       "      <td>1.18</td>\n",
       "      <td>1.11</td>\n",
       "      <td>1.01</td>\n",
       "      <td>2.39</td>\n",
       "      <td>2.59</td>\n",
       "      <td>3</td>\n",
       "    </tr>\n",
       "    <tr>\n",
       "      <th>4</th>\n",
       "      <td>13</td>\n",
       "      <td>139</td>\n",
       "      <td>113</td>\n",
       "      <td>61</td>\n",
       "      <td>9.197681e+06</td>\n",
       "      <td>7.713829e+06</td>\n",
       "      <td>4.674376e+06</td>\n",
       "      <td>9.295149e+06</td>\n",
       "      <td>7981088.0</td>\n",
       "      <td>4.959085e+06</td>\n",
       "      <td>...</td>\n",
       "      <td>n.s.</td>\n",
       "      <td>1.96</td>\n",
       "      <td>1.88</td>\n",
       "      <td>1.5</td>\n",
       "      <td>1.01</td>\n",
       "      <td>0.89</td>\n",
       "      <td>0.83</td>\n",
       "      <td>2.79</td>\n",
       "      <td>4.17</td>\n",
       "      <td>5.21</td>\n",
       "    </tr>\n",
       "    <tr>\n",
       "      <th>...</th>\n",
       "      <td>...</td>\n",
       "      <td>...</td>\n",
       "      <td>...</td>\n",
       "      <td>...</td>\n",
       "      <td>...</td>\n",
       "      <td>...</td>\n",
       "      <td>...</td>\n",
       "      <td>...</td>\n",
       "      <td>...</td>\n",
       "      <td>...</td>\n",
       "      <td>...</td>\n",
       "      <td>...</td>\n",
       "      <td>...</td>\n",
       "      <td>...</td>\n",
       "      <td>...</td>\n",
       "      <td>...</td>\n",
       "      <td>...</td>\n",
       "      <td>...</td>\n",
       "      <td>...</td>\n",
       "      <td>...</td>\n",
       "      <td>...</td>\n",
       "    </tr>\n",
       "    <tr>\n",
       "      <th>5091</th>\n",
       "      <td>13</td>\n",
       "      <td>6</td>\n",
       "      <td>5</td>\n",
       "      <td>5</td>\n",
       "      <td>3.905280e+05</td>\n",
       "      <td>4.178080e+05</td>\n",
       "      <td>4.306910e+05</td>\n",
       "      <td>4.313380e+05</td>\n",
       "      <td>417917.0</td>\n",
       "      <td>4.309220e+05</td>\n",
       "      <td>...</td>\n",
       "      <td>19.95</td>\n",
       "      <td>1.19</td>\n",
       "      <td>1.59</td>\n",
       "      <td>1.5</td>\n",
       "      <td>2.11</td>\n",
       "      <td>2.38</td>\n",
       "      <td>1.89</td>\n",
       "      <td>6.71</td>\n",
       "      <td>4.33</td>\n",
       "      <td>5.48</td>\n",
       "    </tr>\n",
       "    <tr>\n",
       "      <th>5092</th>\n",
       "      <td>17</td>\n",
       "      <td>11</td>\n",
       "      <td>10</td>\n",
       "      <td>9</td>\n",
       "      <td>8.768720e+05</td>\n",
       "      <td>7.555050e+05</td>\n",
       "      <td>6.971030e+05</td>\n",
       "      <td>8.786660e+05</td>\n",
       "      <td>758363.0</td>\n",
       "      <td>6.973620e+05</td>\n",
       "      <td>...</td>\n",
       "      <td>n.s.</td>\n",
       "      <td>4.72</td>\n",
       "      <td>4.08</td>\n",
       "      <td>4.27</td>\n",
       "      <td>2.85</td>\n",
       "      <td>3.55</td>\n",
       "      <td>3.46</td>\n",
       "      <td>2.28</td>\n",
       "      <td>1.80</td>\n",
       "      <td>1.79</td>\n",
       "    </tr>\n",
       "    <tr>\n",
       "      <th>5093</th>\n",
       "      <td>32</td>\n",
       "      <td>6</td>\n",
       "      <td>7</td>\n",
       "      <td>6</td>\n",
       "      <td>6.394590e+05</td>\n",
       "      <td>6.596000e+02</td>\n",
       "      <td>6.928710e+05</td>\n",
       "      <td>6.416650e+05</td>\n",
       "      <td>666044.0</td>\n",
       "      <td>6.970520e+05</td>\n",
       "      <td>...</td>\n",
       "      <td>7.68</td>\n",
       "      <td>0.75</td>\n",
       "      <td>0.78</td>\n",
       "      <td>0.8</td>\n",
       "      <td>1.77</td>\n",
       "      <td>1.1</td>\n",
       "      <td>1.3</td>\n",
       "      <td>4.94</td>\n",
       "      <td>6.32</td>\n",
       "      <td>8.93</td>\n",
       "    </tr>\n",
       "    <tr>\n",
       "      <th>5094</th>\n",
       "      <td>26</td>\n",
       "      <td>9</td>\n",
       "      <td>5</td>\n",
       "      <td>5</td>\n",
       "      <td>3.900880e+05</td>\n",
       "      <td>3.928600e+02</td>\n",
       "      <td>4.065390e+05</td>\n",
       "      <td>3.914780e+05</td>\n",
       "      <td>394866.0</td>\n",
       "      <td>4.202590e+05</td>\n",
       "      <td>...</td>\n",
       "      <td>n.d.</td>\n",
       "      <td>2.42</td>\n",
       "      <td>2.49</td>\n",
       "      <td>2.45</td>\n",
       "      <td>7.1</td>\n",
       "      <td>5.78</td>\n",
       "      <td>2.98</td>\n",
       "      <td>1.54</td>\n",
       "      <td>1.52</td>\n",
       "      <td>1.65</td>\n",
       "    </tr>\n",
       "    <tr>\n",
       "      <th>5095</th>\n",
       "      <td>20</td>\n",
       "      <td>4</td>\n",
       "      <td>6</td>\n",
       "      <td>5</td>\n",
       "      <td>5.118540e+05</td>\n",
       "      <td>4.802040e+05</td>\n",
       "      <td>5.690280e+05</td>\n",
       "      <td>5.292400e+02</td>\n",
       "      <td>506323.0</td>\n",
       "      <td>5.768270e+05</td>\n",
       "      <td>...</td>\n",
       "      <td>7.62</td>\n",
       "      <td>0.96</td>\n",
       "      <td>0.82</td>\n",
       "      <td>0.83</td>\n",
       "      <td>1.97</td>\n",
       "      <td>1.61</td>\n",
       "      <td>1.99</td>\n",
       "      <td>7.68</td>\n",
       "      <td>8.54</td>\n",
       "      <td>4.97</td>\n",
       "    </tr>\n",
       "  </tbody>\n",
       "</table>\n",
       "<p>5096 rows × 76 columns</p>\n",
       "</div>"
      ],
      "text/plain": [
       "      Anno di costituzione Dipendenti\\nAnno - 1 Dipendenti\\nAnno - 2  \\\n",
       "0                       74                12318                12339   \n",
       "1                       42                11663                11744   \n",
       "2                       48                10385                10466   \n",
       "3                       37                 7009                 6592   \n",
       "4                       13                  139                  113   \n",
       "...                    ...                  ...                  ...   \n",
       "5091                    13                    6                    5   \n",
       "5092                    17                   11                   10   \n",
       "5093                    32                    6                    7   \n",
       "5094                    26                    9                    5   \n",
       "5095                    20                    4                    6   \n",
       "\n",
       "     Dipendenti\\nAnno - 3  Ricavi vendite e prestazioni\\nmigl EUR\\nAnno - 1  \\\n",
       "0                   12397                                      5.685940e+08   \n",
       "1                   11806                                      6.036289e+08   \n",
       "2                   10275                                      4.198258e+08   \n",
       "3                    6600                                      5.942300e+05   \n",
       "4                      61                                      9.197681e+06   \n",
       "...                   ...                                               ...   \n",
       "5091                    5                                      3.905280e+05   \n",
       "5092                    9                                      8.768720e+05   \n",
       "5093                    6                                      6.394590e+05   \n",
       "5094                    5                                      3.900880e+05   \n",
       "5095                    5                                      5.118540e+05   \n",
       "\n",
       "      Ricavi vendite e prestazioni\\nmigl EUR\\nAnno - 2  \\\n",
       "0                                         5.666451e+08   \n",
       "1                                         5.798254e+08   \n",
       "2                                         4.212691e+08   \n",
       "3                                         5.472078e+08   \n",
       "4                                         7.713829e+06   \n",
       "...                                                ...   \n",
       "5091                                      4.178080e+05   \n",
       "5092                                      7.555050e+05   \n",
       "5093                                      6.596000e+02   \n",
       "5094                                      3.928600e+02   \n",
       "5095                                      4.802040e+05   \n",
       "\n",
       "      Ricavi vendite e prestazioni\\nmigl EUR\\nAnno - 3  \\\n",
       "0                                         5.679715e+08   \n",
       "1                                         5.593294e+05   \n",
       "2                                         4.036268e+08   \n",
       "3                                         5.070680e+05   \n",
       "4                                         4.674376e+06   \n",
       "...                                                ...   \n",
       "5091                                      4.306910e+05   \n",
       "5092                                      6.971030e+05   \n",
       "5093                                      6.928710e+05   \n",
       "5094                                      4.065390e+05   \n",
       "5095                                      5.690280e+05   \n",
       "\n",
       "      TOT. VAL. DELLA PRODUZIONE\\nmigl EUR\\nAnno - 1  \\\n",
       "0                                       5.791711e+08   \n",
       "1                                       6.231545e+05   \n",
       "2                                       4.360835e+08   \n",
       "3                                       5.992040e+08   \n",
       "4                                       9.295149e+06   \n",
       "...                                              ...   \n",
       "5091                                    4.313380e+05   \n",
       "5092                                    8.786660e+05   \n",
       "5093                                    6.416650e+05   \n",
       "5094                                    3.914780e+05   \n",
       "5095                                    5.292400e+02   \n",
       "\n",
       "      TOT. VAL. DELLA PRODUZIONE\\nmigl EUR\\nAnno - 2  \\\n",
       "0                                        575005635.0   \n",
       "1                                        595220388.0   \n",
       "2                                        438296558.0   \n",
       "3                                        551965897.0   \n",
       "4                                          7981088.0   \n",
       "...                                              ...   \n",
       "5091                                        417917.0   \n",
       "5092                                        758363.0   \n",
       "5093                                        666044.0   \n",
       "5094                                        394866.0   \n",
       "5095                                        506323.0   \n",
       "\n",
       "      TOT. VAL. DELLA PRODUZIONE\\nmigl EUR\\nAnno - 3  ...  \\\n",
       "0                                       5.816119e+08  ...   \n",
       "1                                       5.715666e+08  ...   \n",
       "2                                       4.227815e+08  ...   \n",
       "3                                       5.132697e+05  ...   \n",
       "4                                       4.959085e+06  ...   \n",
       "...                                              ...  ...   \n",
       "5091                                    4.309220e+05  ...   \n",
       "5092                                    6.973620e+05  ...   \n",
       "5093                                    6.970520e+05  ...   \n",
       "5094                                    4.202590e+05  ...   \n",
       "5095                                    5.768270e+05  ...   \n",
       "\n",
       "      Redditività di tutto il capitale investito (ROI) (%)\\n%\\nAnno - 3  \\\n",
       "0                                                  0.98                   \n",
       "1                                                  8.12                   \n",
       "2                                                 25.24                   \n",
       "3                                                 11.94                   \n",
       "4                                                  n.s.                   \n",
       "...                                                 ...                   \n",
       "5091                                              19.95                   \n",
       "5092                                               n.s.                   \n",
       "5093                                               7.68                   \n",
       "5094                                               n.d.                   \n",
       "5095                                               7.62                   \n",
       "\n",
       "      Rotaz. cap. investito (volte)\\nAnno - 1  \\\n",
       "0                                        1.03   \n",
       "1                                        1.36   \n",
       "2                                        1.93   \n",
       "3                                        1.93   \n",
       "4                                        1.96   \n",
       "...                                       ...   \n",
       "5091                                     1.19   \n",
       "5092                                     4.72   \n",
       "5093                                     0.75   \n",
       "5094                                     2.42   \n",
       "5095                                     0.96   \n",
       "\n",
       "      Rotaz. cap. investito (volte)\\nAnno - 2  \\\n",
       "0                                        0.98   \n",
       "1                                        1.33   \n",
       "2                                         1.9   \n",
       "3                                        1.78   \n",
       "4                                        1.88   \n",
       "...                                       ...   \n",
       "5091                                     1.59   \n",
       "5092                                     4.08   \n",
       "5093                                     0.78   \n",
       "5094                                     2.49   \n",
       "5095                                     0.82   \n",
       "\n",
       "      Rotaz. cap. investito (volte)\\nAnno - 3  Indice corrente\\nAnno - 1  \\\n",
       "0                                        0.98                       0.92   \n",
       "1                                        1.37                       1.36   \n",
       "2                                        1.96                       1.67   \n",
       "3                                        1.57                       1.18   \n",
       "4                                         1.5                       1.01   \n",
       "...                                       ...                        ...   \n",
       "5091                                      1.5                       2.11   \n",
       "5092                                     4.27                       2.85   \n",
       "5093                                      0.8                       1.77   \n",
       "5094                                     2.45                        7.1   \n",
       "5095                                     0.83                       1.97   \n",
       "\n",
       "      Indice corrente\\nAnno - 2  Indice corrente\\nAnno - 3  \\\n",
       "0                          0.95                       0.92   \n",
       "1                          1.35                       1.33   \n",
       "2                          1.61                       1.72   \n",
       "3                          1.11                       1.01   \n",
       "4                          0.89                       0.83   \n",
       "...                         ...                        ...   \n",
       "5091                       2.38                       1.89   \n",
       "5092                       3.55                       3.46   \n",
       "5093                        1.1                        1.3   \n",
       "5094                       5.78                       2.98   \n",
       "5095                       1.61                       1.99   \n",
       "\n",
       "      Rapporto di indebitamento\\nAnno - 1  \\\n",
       "0                                    2.63   \n",
       "1                                    2.46   \n",
       "2                                    2.91   \n",
       "3                                    2.39   \n",
       "4                                    2.79   \n",
       "...                                   ...   \n",
       "5091                                 6.71   \n",
       "5092                                 2.28   \n",
       "5093                                 4.94   \n",
       "5094                                 1.54   \n",
       "5095                                 7.68   \n",
       "\n",
       "      Rapporto di indebitamento\\nAnno - 2  Rapporto di indebitamento\\nAnno - 3  \n",
       "0                                    2.76                                 2.86  \n",
       "1                                    2.58                                 2.69  \n",
       "2                                    3.09                                 2.86  \n",
       "3                                    2.59                                    3  \n",
       "4                                    4.17                                 5.21  \n",
       "...                                   ...                                  ...  \n",
       "5091                                 4.33                                 5.48  \n",
       "5092                                 1.80                                 1.79  \n",
       "5093                                 6.32                                 8.93  \n",
       "5094                                 1.52                                 1.65  \n",
       "5095                                 8.54                                 4.97  \n",
       "\n",
       "[5096 rows x 76 columns]"
      ]
     },
     "execution_count": 142,
     "metadata": {},
     "output_type": "execute_result"
    }
   ],
   "source": [
    "df = pd.read_csv(\"ristorazione_5096_id_3_anni.csv\")\n",
    "df = df[df.columns[7:-29]] # i select only input columns for my model and i also excluded categorical columns\n",
    "df[\"Anno di costituzione\"] = pd.to_datetime(df[\"Anno di costituzione\"])\n",
    "df[\"Anno di costituzione\"] = df[\"Anno di costituzione\"].apply(lambda x : 2019 - x.year)\n",
    "df"
   ]
  },
  {
   "cell_type": "markdown",
   "metadata": {},
   "source": [
    "### Replace n.s. and n.s. all of which mean null"
   ]
  },
  {
   "cell_type": "code",
   "execution_count": 143,
   "metadata": {},
   "outputs": [],
   "source": [
    "df.replace(\"n.s.\",float(\"nan\"),inplace=True)\n",
    "df.replace(\"n.d.\",float(\"nan\"),inplace=True)\n",
    "for col in df.columns:\n",
    "    df[col] = df[col].apply(lambda x: float(x))"
   ]
  },
  {
   "cell_type": "markdown",
   "metadata": {},
   "source": [
    "### Total number of null values"
   ]
  },
  {
   "cell_type": "code",
   "execution_count": 144,
   "metadata": {},
   "outputs": [
    {
     "data": {
      "text/plain": [
       "10181"
      ]
     },
     "execution_count": 144,
     "metadata": {},
     "output_type": "execute_result"
    }
   ],
   "source": [
    "df.isna().sum().sum()"
   ]
  },
  {
   "cell_type": "markdown",
   "metadata": {},
   "source": [
    "### Total number of null values by column"
   ]
  },
  {
   "cell_type": "code",
   "execution_count": 145,
   "metadata": {},
   "outputs": [
    {
     "data": {
      "text/plain": [
       "Anno di costituzione                                 0\n",
       "Dipendenti\\nAnno - 1                                 3\n",
       "Dipendenti\\nAnno - 2                                 4\n",
       "Dipendenti\\nAnno - 3                                10\n",
       "Ricavi vendite e prestazioni\\nmigl EUR\\nAnno - 1     0\n",
       "                                                    ..\n",
       "Indice corrente\\nAnno - 2                           47\n",
       "Indice corrente\\nAnno - 3                           56\n",
       "Rapporto di indebitamento\\nAnno - 1                  0\n",
       "Rapporto di indebitamento\\nAnno - 2                  0\n",
       "Rapporto di indebitamento\\nAnno - 3                  2\n",
       "Length: 76, dtype: int64"
      ]
     },
     "execution_count": 145,
     "metadata": {},
     "output_type": "execute_result"
    }
   ],
   "source": [
    "df.isna().sum()"
   ]
  },
  {
   "cell_type": "markdown",
   "metadata": {},
   "source": [
    "## Creating a dataset with an extra 1% of dummy missing data"
   ]
  },
  {
   "cell_type": "code",
   "execution_count": 146,
   "metadata": {},
   "outputs": [],
   "source": [
    "df_fake_na = df.copy()\n",
    "for col in df_fake_na.columns:\n",
    "    ori_rat = df_fake_na[col].isna().mean()\n",
    "\n",
    "    add_miss_rat = 0.01 * (1+2*(df_fake_na[col].isna().sum()/5096)) # balance fake null between columns with more or less null\n",
    "    vals_to_nan = df_fake_na[col].dropna().sample(frac=add_miss_rat).index\n",
    "    df_fake_na.loc[vals_to_nan, col] = float(\"nan\")\n"
   ]
  },
  {
   "cell_type": "code",
   "execution_count": 147,
   "metadata": {},
   "outputs": [
    {
     "data": {
      "text/plain": [
       "14069"
      ]
     },
     "execution_count": 147,
     "metadata": {},
     "output_type": "execute_result"
    }
   ],
   "source": [
    "df_fake_na.isna().sum().sum()"
   ]
  },
  {
   "cell_type": "code",
   "execution_count": 148,
   "metadata": {},
   "outputs": [
    {
     "data": {
      "text/plain": [
       "Anno di costituzione                                 51\n",
       "Dipendenti\\nAnno - 1                                 54\n",
       "Dipendenti\\nAnno - 2                                 55\n",
       "Dipendenti\\nAnno - 3                                 61\n",
       "Ricavi vendite e prestazioni\\nmigl EUR\\nAnno - 1     51\n",
       "                                                   ... \n",
       "Indice corrente\\nAnno - 2                            98\n",
       "Indice corrente\\nAnno - 3                           108\n",
       "Rapporto di indebitamento\\nAnno - 1                  51\n",
       "Rapporto di indebitamento\\nAnno - 2                  51\n",
       "Rapporto di indebitamento\\nAnno - 3                  53\n",
       "Length: 76, dtype: int64"
      ]
     },
     "execution_count": 148,
     "metadata": {},
     "output_type": "execute_result"
    }
   ],
   "source": [
    "df_fake_na.isna().sum()"
   ]
  },
  {
   "cell_type": "markdown",
   "metadata": {},
   "source": [
    "# Test filling error using mean squared error"
   ]
  },
  {
   "cell_type": "code",
   "execution_count": 149,
   "metadata": {},
   "outputs": [],
   "source": [
    "from sklearn.metrics import mean_squared_error"
   ]
  },
  {
   "cell_type": "markdown",
   "metadata": {},
   "source": [
    "### First have another look of true nan by columns"
   ]
  },
  {
   "cell_type": "code",
   "execution_count": 150,
   "metadata": {},
   "outputs": [
    {
     "data": {
      "application/vnd.plotly.v1+json": {
       "config": {
        "plotlyServerURL": "https://plot.ly"
       },
       "data": [
        {
         "alignmentgroup": "True",
         "hovertemplate": "variable=0<br>index=%{x}<br>value=%{y}<extra></extra>",
         "legendgroup": "0",
         "marker": {
          "color": "#636efa",
          "pattern": {
           "shape": ""
          }
         },
         "name": "0",
         "offsetgroup": "0",
         "orientation": "v",
         "showlegend": true,
         "textposition": "auto",
         "texttemplate": "%{y}",
         "type": "bar",
         "x": [
          "Anno di costituzione",
          "Dipendenti\nAnno - 1",
          "Dipendenti\nAnno - 2",
          "Dipendenti\nAnno - 3",
          "Ricavi vendite e prestazioni\nmigl EUR\nAnno - 1",
          "Ricavi vendite e prestazioni\nmigl EUR\nAnno - 2",
          "Ricavi vendite e prestazioni\nmigl EUR\nAnno - 3",
          "TOT. VAL. DELLA PRODUZIONE\nmigl EUR\nAnno - 1",
          "TOT. VAL. DELLA PRODUZIONE\nmigl EUR\nAnno - 2",
          "TOT. VAL. DELLA PRODUZIONE\nmigl EUR\nAnno - 3",
          "Materie prime e consumo\nmigl EUR\nAnno - 1",
          "Materie prime e consumo\nmigl EUR\nAnno - 2",
          "Materie prime e consumo\nmigl EUR\nAnno - 3",
          "Servizi\nmigl EUR\nAnno - 1",
          "Servizi\nmigl EUR\nAnno - 2",
          "Servizi\nmigl EUR\nAnno - 3",
          "Godimento beni di terzi\nmigl EUR\nAnno - 1",
          "Godimento beni di terzi\nmigl EUR\nAnno - 2",
          "Godimento beni di terzi\nmigl EUR\nAnno - 3",
          "Totale costi del personale\nmigl EUR\nAnno - 1",
          "Totale costi del personale\nmigl EUR\nAnno - 2",
          "Totale costi del personale\nmigl EUR\nAnno - 3",
          "COSTI DELLA PRODUZIONE\nmigl EUR\nAnno - 1",
          "COSTI DELLA PRODUZIONE\nmigl EUR\nAnno - 2",
          "COSTI DELLA PRODUZIONE\nmigl EUR\nAnno - 3",
          "UTILE/PERDITA DI ESERCIZIO\nmigl EUR\nAnno - 1",
          "UTILE/PERDITA DI ESERCIZIO\nmigl EUR\nAnno - 2",
          "UTILE/PERDITA DI ESERCIZIO\nmigl EUR\nAnno - 3",
          "TOTALE IMMOBILIZZAZIONI\nmigl EUR\nAnno - 1",
          "TOTALE IMMOBILIZZAZIONI\nmigl EUR\nAnno - 2",
          "TOTALE IMMOBILIZZAZIONI\nmigl EUR\nAnno - 3",
          "ATTIVO CIRCOLANTE\nmigl EUR\nAnno - 1",
          "ATTIVO CIRCOLANTE\nmigl EUR\nAnno - 2",
          "ATTIVO CIRCOLANTE\nmigl EUR\nAnno - 3",
          "TOTALE ATTIVO\nmigl EUR\nAnno - 1",
          "TOTALE ATTIVO\nmigl EUR\nAnno - 2",
          "TOTALE ATTIVO\nmigl EUR\nAnno - 3",
          "TOTALE PATRIMONIO NETTO\nmigl EUR\nAnno - 1",
          "TOTALE PATRIMONIO NETTO\nmigl EUR\nAnno - 2",
          "TOTALE PATRIMONIO NETTO\nmigl EUR\nAnno - 3",
          "TOTALE DEBITI\nmigl EUR\nAnno - 1",
          "TOTALE DEBITI\nmigl EUR\nAnno - 2",
          "TOTALE DEBITI\nmigl EUR\nAnno - 3",
          "TOTALE PASSIVO\nmigl EUR\nAnno - 1",
          "TOTALE PASSIVO\nmigl EUR\nAnno - 2",
          "TOTALE PASSIVO\nmigl EUR\nAnno - 3",
          "EBITDA\nmigl EUR\nAnno - 1",
          "EBITDA\nmigl EUR\nAnno - 2",
          "EBITDA\nmigl EUR\nAnno - 3",
          "EBITDA/Vendite (%)\n%\nAnno - 1",
          "EBITDA/Vendite (%)\n%\nAnno - 2",
          "EBITDA/Vendite (%)\n%\nAnno - 3",
          "RISULTATO OPERATIVO\nmigl EUR\nAnno - 1",
          "RISULTATO OPERATIVO\nmigl EUR\nAnno - 2",
          "RISULTATO OPERATIVO\nmigl EUR\nAnno - 3",
          "Redditività delle vendite (ROS) (%)\n%\nAnno - 1",
          "Redditività delle vendite (ROS) (%)\n%\nAnno - 2",
          "Redditività delle vendite (ROS) (%)\n%\nAnno - 3",
          "Redditività del totale attivo (ROA) (%)\n%\nAnno - 1",
          "Redditività del totale attivo (ROA) (%)\n%\nAnno - 2",
          "Redditività del totale attivo (ROA) (%)\n%\nAnno - 3",
          "Redditività del capitale proprio (ROE) (%)\n%\nAnno - 1",
          "Redditività del capitale proprio (ROE) (%)\n%\nAnno - 2",
          "Redditività del capitale proprio (ROE) (%)\n%\nAnno - 3",
          "Redditività di tutto il capitale investito (ROI) (%)\n%\nAnno - 1",
          "Redditività di tutto il capitale investito (ROI) (%)\n%\nAnno - 2",
          "Redditività di tutto il capitale investito (ROI) (%)\n%\nAnno - 3",
          "Rotaz. cap. investito (volte)\nAnno - 1",
          "Rotaz. cap. investito (volte)\nAnno - 2",
          "Rotaz. cap. investito (volte)\nAnno - 3",
          "Indice corrente\nAnno - 1",
          "Indice corrente\nAnno - 2",
          "Indice corrente\nAnno - 3",
          "Rapporto di indebitamento\nAnno - 1",
          "Rapporto di indebitamento\nAnno - 2",
          "Rapporto di indebitamento\nAnno - 3"
         ],
         "xaxis": "x",
         "y": [
          0,
          3,
          4,
          10,
          0,
          0,
          0,
          0,
          0,
          0,
          0,
          0,
          0,
          0,
          0,
          0,
          0,
          0,
          0,
          0,
          0,
          0,
          0,
          0,
          0,
          0,
          0,
          0,
          0,
          0,
          0,
          0,
          0,
          0,
          0,
          0,
          0,
          0,
          0,
          0,
          0,
          0,
          0,
          0,
          0,
          0,
          0,
          0,
          0,
          6,
          13,
          19,
          0,
          0,
          0,
          52,
          80,
          88,
          0,
          0,
          0,
          448,
          421,
          453,
          2617,
          2700,
          2727,
          127,
          129,
          133,
          46,
          47,
          56,
          0,
          0,
          2
         ],
         "yaxis": "y"
        }
       ],
       "layout": {
        "barmode": "relative",
        "legend": {
         "title": {
          "text": "variable"
         },
         "tracegroupgap": 0
        },
        "template": {
         "data": {
          "bar": [
           {
            "error_x": {
             "color": "#2a3f5f"
            },
            "error_y": {
             "color": "#2a3f5f"
            },
            "marker": {
             "line": {
              "color": "#E5ECF6",
              "width": 0.5
             },
             "pattern": {
              "fillmode": "overlay",
              "size": 10,
              "solidity": 0.2
             }
            },
            "type": "bar"
           }
          ],
          "barpolar": [
           {
            "marker": {
             "line": {
              "color": "#E5ECF6",
              "width": 0.5
             },
             "pattern": {
              "fillmode": "overlay",
              "size": 10,
              "solidity": 0.2
             }
            },
            "type": "barpolar"
           }
          ],
          "carpet": [
           {
            "aaxis": {
             "endlinecolor": "#2a3f5f",
             "gridcolor": "white",
             "linecolor": "white",
             "minorgridcolor": "white",
             "startlinecolor": "#2a3f5f"
            },
            "baxis": {
             "endlinecolor": "#2a3f5f",
             "gridcolor": "white",
             "linecolor": "white",
             "minorgridcolor": "white",
             "startlinecolor": "#2a3f5f"
            },
            "type": "carpet"
           }
          ],
          "choropleth": [
           {
            "colorbar": {
             "outlinewidth": 0,
             "ticks": ""
            },
            "type": "choropleth"
           }
          ],
          "contour": [
           {
            "colorbar": {
             "outlinewidth": 0,
             "ticks": ""
            },
            "colorscale": [
             [
              0,
              "#0d0887"
             ],
             [
              0.1111111111111111,
              "#46039f"
             ],
             [
              0.2222222222222222,
              "#7201a8"
             ],
             [
              0.3333333333333333,
              "#9c179e"
             ],
             [
              0.4444444444444444,
              "#bd3786"
             ],
             [
              0.5555555555555556,
              "#d8576b"
             ],
             [
              0.6666666666666666,
              "#ed7953"
             ],
             [
              0.7777777777777778,
              "#fb9f3a"
             ],
             [
              0.8888888888888888,
              "#fdca26"
             ],
             [
              1,
              "#f0f921"
             ]
            ],
            "type": "contour"
           }
          ],
          "contourcarpet": [
           {
            "colorbar": {
             "outlinewidth": 0,
             "ticks": ""
            },
            "type": "contourcarpet"
           }
          ],
          "heatmap": [
           {
            "colorbar": {
             "outlinewidth": 0,
             "ticks": ""
            },
            "colorscale": [
             [
              0,
              "#0d0887"
             ],
             [
              0.1111111111111111,
              "#46039f"
             ],
             [
              0.2222222222222222,
              "#7201a8"
             ],
             [
              0.3333333333333333,
              "#9c179e"
             ],
             [
              0.4444444444444444,
              "#bd3786"
             ],
             [
              0.5555555555555556,
              "#d8576b"
             ],
             [
              0.6666666666666666,
              "#ed7953"
             ],
             [
              0.7777777777777778,
              "#fb9f3a"
             ],
             [
              0.8888888888888888,
              "#fdca26"
             ],
             [
              1,
              "#f0f921"
             ]
            ],
            "type": "heatmap"
           }
          ],
          "heatmapgl": [
           {
            "colorbar": {
             "outlinewidth": 0,
             "ticks": ""
            },
            "colorscale": [
             [
              0,
              "#0d0887"
             ],
             [
              0.1111111111111111,
              "#46039f"
             ],
             [
              0.2222222222222222,
              "#7201a8"
             ],
             [
              0.3333333333333333,
              "#9c179e"
             ],
             [
              0.4444444444444444,
              "#bd3786"
             ],
             [
              0.5555555555555556,
              "#d8576b"
             ],
             [
              0.6666666666666666,
              "#ed7953"
             ],
             [
              0.7777777777777778,
              "#fb9f3a"
             ],
             [
              0.8888888888888888,
              "#fdca26"
             ],
             [
              1,
              "#f0f921"
             ]
            ],
            "type": "heatmapgl"
           }
          ],
          "histogram": [
           {
            "marker": {
             "pattern": {
              "fillmode": "overlay",
              "size": 10,
              "solidity": 0.2
             }
            },
            "type": "histogram"
           }
          ],
          "histogram2d": [
           {
            "colorbar": {
             "outlinewidth": 0,
             "ticks": ""
            },
            "colorscale": [
             [
              0,
              "#0d0887"
             ],
             [
              0.1111111111111111,
              "#46039f"
             ],
             [
              0.2222222222222222,
              "#7201a8"
             ],
             [
              0.3333333333333333,
              "#9c179e"
             ],
             [
              0.4444444444444444,
              "#bd3786"
             ],
             [
              0.5555555555555556,
              "#d8576b"
             ],
             [
              0.6666666666666666,
              "#ed7953"
             ],
             [
              0.7777777777777778,
              "#fb9f3a"
             ],
             [
              0.8888888888888888,
              "#fdca26"
             ],
             [
              1,
              "#f0f921"
             ]
            ],
            "type": "histogram2d"
           }
          ],
          "histogram2dcontour": [
           {
            "colorbar": {
             "outlinewidth": 0,
             "ticks": ""
            },
            "colorscale": [
             [
              0,
              "#0d0887"
             ],
             [
              0.1111111111111111,
              "#46039f"
             ],
             [
              0.2222222222222222,
              "#7201a8"
             ],
             [
              0.3333333333333333,
              "#9c179e"
             ],
             [
              0.4444444444444444,
              "#bd3786"
             ],
             [
              0.5555555555555556,
              "#d8576b"
             ],
             [
              0.6666666666666666,
              "#ed7953"
             ],
             [
              0.7777777777777778,
              "#fb9f3a"
             ],
             [
              0.8888888888888888,
              "#fdca26"
             ],
             [
              1,
              "#f0f921"
             ]
            ],
            "type": "histogram2dcontour"
           }
          ],
          "mesh3d": [
           {
            "colorbar": {
             "outlinewidth": 0,
             "ticks": ""
            },
            "type": "mesh3d"
           }
          ],
          "parcoords": [
           {
            "line": {
             "colorbar": {
              "outlinewidth": 0,
              "ticks": ""
             }
            },
            "type": "parcoords"
           }
          ],
          "pie": [
           {
            "automargin": true,
            "type": "pie"
           }
          ],
          "scatter": [
           {
            "marker": {
             "colorbar": {
              "outlinewidth": 0,
              "ticks": ""
             }
            },
            "type": "scatter"
           }
          ],
          "scatter3d": [
           {
            "line": {
             "colorbar": {
              "outlinewidth": 0,
              "ticks": ""
             }
            },
            "marker": {
             "colorbar": {
              "outlinewidth": 0,
              "ticks": ""
             }
            },
            "type": "scatter3d"
           }
          ],
          "scattercarpet": [
           {
            "marker": {
             "colorbar": {
              "outlinewidth": 0,
              "ticks": ""
             }
            },
            "type": "scattercarpet"
           }
          ],
          "scattergeo": [
           {
            "marker": {
             "colorbar": {
              "outlinewidth": 0,
              "ticks": ""
             }
            },
            "type": "scattergeo"
           }
          ],
          "scattergl": [
           {
            "marker": {
             "colorbar": {
              "outlinewidth": 0,
              "ticks": ""
             }
            },
            "type": "scattergl"
           }
          ],
          "scattermapbox": [
           {
            "marker": {
             "colorbar": {
              "outlinewidth": 0,
              "ticks": ""
             }
            },
            "type": "scattermapbox"
           }
          ],
          "scatterpolar": [
           {
            "marker": {
             "colorbar": {
              "outlinewidth": 0,
              "ticks": ""
             }
            },
            "type": "scatterpolar"
           }
          ],
          "scatterpolargl": [
           {
            "marker": {
             "colorbar": {
              "outlinewidth": 0,
              "ticks": ""
             }
            },
            "type": "scatterpolargl"
           }
          ],
          "scatterternary": [
           {
            "marker": {
             "colorbar": {
              "outlinewidth": 0,
              "ticks": ""
             }
            },
            "type": "scatterternary"
           }
          ],
          "surface": [
           {
            "colorbar": {
             "outlinewidth": 0,
             "ticks": ""
            },
            "colorscale": [
             [
              0,
              "#0d0887"
             ],
             [
              0.1111111111111111,
              "#46039f"
             ],
             [
              0.2222222222222222,
              "#7201a8"
             ],
             [
              0.3333333333333333,
              "#9c179e"
             ],
             [
              0.4444444444444444,
              "#bd3786"
             ],
             [
              0.5555555555555556,
              "#d8576b"
             ],
             [
              0.6666666666666666,
              "#ed7953"
             ],
             [
              0.7777777777777778,
              "#fb9f3a"
             ],
             [
              0.8888888888888888,
              "#fdca26"
             ],
             [
              1,
              "#f0f921"
             ]
            ],
            "type": "surface"
           }
          ],
          "table": [
           {
            "cells": {
             "fill": {
              "color": "#EBF0F8"
             },
             "line": {
              "color": "white"
             }
            },
            "header": {
             "fill": {
              "color": "#C8D4E3"
             },
             "line": {
              "color": "white"
             }
            },
            "type": "table"
           }
          ]
         },
         "layout": {
          "annotationdefaults": {
           "arrowcolor": "#2a3f5f",
           "arrowhead": 0,
           "arrowwidth": 1
          },
          "autotypenumbers": "strict",
          "coloraxis": {
           "colorbar": {
            "outlinewidth": 0,
            "ticks": ""
           }
          },
          "colorscale": {
           "diverging": [
            [
             0,
             "#8e0152"
            ],
            [
             0.1,
             "#c51b7d"
            ],
            [
             0.2,
             "#de77ae"
            ],
            [
             0.3,
             "#f1b6da"
            ],
            [
             0.4,
             "#fde0ef"
            ],
            [
             0.5,
             "#f7f7f7"
            ],
            [
             0.6,
             "#e6f5d0"
            ],
            [
             0.7,
             "#b8e186"
            ],
            [
             0.8,
             "#7fbc41"
            ],
            [
             0.9,
             "#4d9221"
            ],
            [
             1,
             "#276419"
            ]
           ],
           "sequential": [
            [
             0,
             "#0d0887"
            ],
            [
             0.1111111111111111,
             "#46039f"
            ],
            [
             0.2222222222222222,
             "#7201a8"
            ],
            [
             0.3333333333333333,
             "#9c179e"
            ],
            [
             0.4444444444444444,
             "#bd3786"
            ],
            [
             0.5555555555555556,
             "#d8576b"
            ],
            [
             0.6666666666666666,
             "#ed7953"
            ],
            [
             0.7777777777777778,
             "#fb9f3a"
            ],
            [
             0.8888888888888888,
             "#fdca26"
            ],
            [
             1,
             "#f0f921"
            ]
           ],
           "sequentialminus": [
            [
             0,
             "#0d0887"
            ],
            [
             0.1111111111111111,
             "#46039f"
            ],
            [
             0.2222222222222222,
             "#7201a8"
            ],
            [
             0.3333333333333333,
             "#9c179e"
            ],
            [
             0.4444444444444444,
             "#bd3786"
            ],
            [
             0.5555555555555556,
             "#d8576b"
            ],
            [
             0.6666666666666666,
             "#ed7953"
            ],
            [
             0.7777777777777778,
             "#fb9f3a"
            ],
            [
             0.8888888888888888,
             "#fdca26"
            ],
            [
             1,
             "#f0f921"
            ]
           ]
          },
          "colorway": [
           "#636efa",
           "#EF553B",
           "#00cc96",
           "#ab63fa",
           "#FFA15A",
           "#19d3f3",
           "#FF6692",
           "#B6E880",
           "#FF97FF",
           "#FECB52"
          ],
          "font": {
           "color": "#2a3f5f"
          },
          "geo": {
           "bgcolor": "white",
           "lakecolor": "white",
           "landcolor": "#E5ECF6",
           "showlakes": true,
           "showland": true,
           "subunitcolor": "white"
          },
          "hoverlabel": {
           "align": "left"
          },
          "hovermode": "closest",
          "mapbox": {
           "style": "light"
          },
          "paper_bgcolor": "white",
          "plot_bgcolor": "#E5ECF6",
          "polar": {
           "angularaxis": {
            "gridcolor": "white",
            "linecolor": "white",
            "ticks": ""
           },
           "bgcolor": "#E5ECF6",
           "radialaxis": {
            "gridcolor": "white",
            "linecolor": "white",
            "ticks": ""
           }
          },
          "scene": {
           "xaxis": {
            "backgroundcolor": "#E5ECF6",
            "gridcolor": "white",
            "gridwidth": 2,
            "linecolor": "white",
            "showbackground": true,
            "ticks": "",
            "zerolinecolor": "white"
           },
           "yaxis": {
            "backgroundcolor": "#E5ECF6",
            "gridcolor": "white",
            "gridwidth": 2,
            "linecolor": "white",
            "showbackground": true,
            "ticks": "",
            "zerolinecolor": "white"
           },
           "zaxis": {
            "backgroundcolor": "#E5ECF6",
            "gridcolor": "white",
            "gridwidth": 2,
            "linecolor": "white",
            "showbackground": true,
            "ticks": "",
            "zerolinecolor": "white"
           }
          },
          "shapedefaults": {
           "line": {
            "color": "#2a3f5f"
           }
          },
          "ternary": {
           "aaxis": {
            "gridcolor": "white",
            "linecolor": "white",
            "ticks": ""
           },
           "baxis": {
            "gridcolor": "white",
            "linecolor": "white",
            "ticks": ""
           },
           "bgcolor": "#E5ECF6",
           "caxis": {
            "gridcolor": "white",
            "linecolor": "white",
            "ticks": ""
           }
          },
          "title": {
           "x": 0.05
          },
          "xaxis": {
           "automargin": true,
           "gridcolor": "white",
           "linecolor": "white",
           "ticks": "",
           "title": {
            "standoff": 15
           },
           "zerolinecolor": "white",
           "zerolinewidth": 2
          },
          "yaxis": {
           "automargin": true,
           "gridcolor": "white",
           "linecolor": "white",
           "ticks": "",
           "title": {
            "standoff": 15
           },
           "zerolinecolor": "white",
           "zerolinewidth": 2
          }
         }
        },
        "title": {
         "text": "True Null values by columns"
        },
        "xaxis": {
         "anchor": "y",
         "domain": [
          0,
          1
         ],
         "title": {
          "text": "index"
         }
        },
        "yaxis": {
         "anchor": "x",
         "domain": [
          0,
          1
         ],
         "title": {
          "text": "value"
         }
        }
       }
      }
     },
     "metadata": {},
     "output_type": "display_data"
    }
   ],
   "source": [
    "px.bar(df.isna().sum(),text_auto=True, title=\"True Null values by columns\")"
   ]
  },
  {
   "cell_type": "code",
   "execution_count": 151,
   "metadata": {},
   "outputs": [
    {
     "data": {
      "application/vnd.plotly.v1+json": {
       "config": {
        "plotlyServerURL": "https://plot.ly"
       },
       "data": [
        {
         "alignmentgroup": "True",
         "hovertemplate": "variable=0<br>index=%{x}<br>value=%{y}<extra></extra>",
         "legendgroup": "0",
         "marker": {
          "color": "#636efa",
          "pattern": {
           "shape": ""
          }
         },
         "name": "0",
         "offsetgroup": "0",
         "orientation": "v",
         "showlegend": true,
         "textposition": "auto",
         "texttemplate": "%{y:.3}",
         "type": "bar",
         "x": [
          "Redditività del capitale proprio (ROE) (%)\n%\nAnno - 1",
          "Redditività del capitale proprio (ROE) (%)\n%\nAnno - 2",
          "Redditività del capitale proprio (ROE) (%)\n%\nAnno - 3",
          "Redditività di tutto il capitale investito (ROI) (%)\n%\nAnno - 1",
          "Redditività di tutto il capitale investito (ROI) (%)\n%\nAnno - 2",
          "Redditività di tutto il capitale investito (ROI) (%)\n%\nAnno - 3",
          "Rotaz. cap. investito (volte)\nAnno - 1",
          "Rotaz. cap. investito (volte)\nAnno - 2",
          "Rotaz. cap. investito (volte)\nAnno - 3",
          "Indice corrente\nAnno - 1",
          "Indice corrente\nAnno - 2",
          "Indice corrente\nAnno - 3"
         ],
         "xaxis": "x",
         "y": [
          8.791208791208792,
          8.26138147566719,
          8.889324960753532,
          51.35400313971743,
          52.982731554160125,
          53.51255886970173,
          2.4921507064364206,
          2.5313971742543173,
          2.60989010989011,
          0.902668759811617,
          0.9222919937205651,
          1.098901098901099
         ],
         "yaxis": "y"
        }
       ],
       "layout": {
        "barmode": "relative",
        "legend": {
         "title": {
          "text": "variable"
         },
         "tracegroupgap": 0
        },
        "template": {
         "data": {
          "bar": [
           {
            "error_x": {
             "color": "#2a3f5f"
            },
            "error_y": {
             "color": "#2a3f5f"
            },
            "marker": {
             "line": {
              "color": "#E5ECF6",
              "width": 0.5
             },
             "pattern": {
              "fillmode": "overlay",
              "size": 10,
              "solidity": 0.2
             }
            },
            "type": "bar"
           }
          ],
          "barpolar": [
           {
            "marker": {
             "line": {
              "color": "#E5ECF6",
              "width": 0.5
             },
             "pattern": {
              "fillmode": "overlay",
              "size": 10,
              "solidity": 0.2
             }
            },
            "type": "barpolar"
           }
          ],
          "carpet": [
           {
            "aaxis": {
             "endlinecolor": "#2a3f5f",
             "gridcolor": "white",
             "linecolor": "white",
             "minorgridcolor": "white",
             "startlinecolor": "#2a3f5f"
            },
            "baxis": {
             "endlinecolor": "#2a3f5f",
             "gridcolor": "white",
             "linecolor": "white",
             "minorgridcolor": "white",
             "startlinecolor": "#2a3f5f"
            },
            "type": "carpet"
           }
          ],
          "choropleth": [
           {
            "colorbar": {
             "outlinewidth": 0,
             "ticks": ""
            },
            "type": "choropleth"
           }
          ],
          "contour": [
           {
            "colorbar": {
             "outlinewidth": 0,
             "ticks": ""
            },
            "colorscale": [
             [
              0,
              "#0d0887"
             ],
             [
              0.1111111111111111,
              "#46039f"
             ],
             [
              0.2222222222222222,
              "#7201a8"
             ],
             [
              0.3333333333333333,
              "#9c179e"
             ],
             [
              0.4444444444444444,
              "#bd3786"
             ],
             [
              0.5555555555555556,
              "#d8576b"
             ],
             [
              0.6666666666666666,
              "#ed7953"
             ],
             [
              0.7777777777777778,
              "#fb9f3a"
             ],
             [
              0.8888888888888888,
              "#fdca26"
             ],
             [
              1,
              "#f0f921"
             ]
            ],
            "type": "contour"
           }
          ],
          "contourcarpet": [
           {
            "colorbar": {
             "outlinewidth": 0,
             "ticks": ""
            },
            "type": "contourcarpet"
           }
          ],
          "heatmap": [
           {
            "colorbar": {
             "outlinewidth": 0,
             "ticks": ""
            },
            "colorscale": [
             [
              0,
              "#0d0887"
             ],
             [
              0.1111111111111111,
              "#46039f"
             ],
             [
              0.2222222222222222,
              "#7201a8"
             ],
             [
              0.3333333333333333,
              "#9c179e"
             ],
             [
              0.4444444444444444,
              "#bd3786"
             ],
             [
              0.5555555555555556,
              "#d8576b"
             ],
             [
              0.6666666666666666,
              "#ed7953"
             ],
             [
              0.7777777777777778,
              "#fb9f3a"
             ],
             [
              0.8888888888888888,
              "#fdca26"
             ],
             [
              1,
              "#f0f921"
             ]
            ],
            "type": "heatmap"
           }
          ],
          "heatmapgl": [
           {
            "colorbar": {
             "outlinewidth": 0,
             "ticks": ""
            },
            "colorscale": [
             [
              0,
              "#0d0887"
             ],
             [
              0.1111111111111111,
              "#46039f"
             ],
             [
              0.2222222222222222,
              "#7201a8"
             ],
             [
              0.3333333333333333,
              "#9c179e"
             ],
             [
              0.4444444444444444,
              "#bd3786"
             ],
             [
              0.5555555555555556,
              "#d8576b"
             ],
             [
              0.6666666666666666,
              "#ed7953"
             ],
             [
              0.7777777777777778,
              "#fb9f3a"
             ],
             [
              0.8888888888888888,
              "#fdca26"
             ],
             [
              1,
              "#f0f921"
             ]
            ],
            "type": "heatmapgl"
           }
          ],
          "histogram": [
           {
            "marker": {
             "pattern": {
              "fillmode": "overlay",
              "size": 10,
              "solidity": 0.2
             }
            },
            "type": "histogram"
           }
          ],
          "histogram2d": [
           {
            "colorbar": {
             "outlinewidth": 0,
             "ticks": ""
            },
            "colorscale": [
             [
              0,
              "#0d0887"
             ],
             [
              0.1111111111111111,
              "#46039f"
             ],
             [
              0.2222222222222222,
              "#7201a8"
             ],
             [
              0.3333333333333333,
              "#9c179e"
             ],
             [
              0.4444444444444444,
              "#bd3786"
             ],
             [
              0.5555555555555556,
              "#d8576b"
             ],
             [
              0.6666666666666666,
              "#ed7953"
             ],
             [
              0.7777777777777778,
              "#fb9f3a"
             ],
             [
              0.8888888888888888,
              "#fdca26"
             ],
             [
              1,
              "#f0f921"
             ]
            ],
            "type": "histogram2d"
           }
          ],
          "histogram2dcontour": [
           {
            "colorbar": {
             "outlinewidth": 0,
             "ticks": ""
            },
            "colorscale": [
             [
              0,
              "#0d0887"
             ],
             [
              0.1111111111111111,
              "#46039f"
             ],
             [
              0.2222222222222222,
              "#7201a8"
             ],
             [
              0.3333333333333333,
              "#9c179e"
             ],
             [
              0.4444444444444444,
              "#bd3786"
             ],
             [
              0.5555555555555556,
              "#d8576b"
             ],
             [
              0.6666666666666666,
              "#ed7953"
             ],
             [
              0.7777777777777778,
              "#fb9f3a"
             ],
             [
              0.8888888888888888,
              "#fdca26"
             ],
             [
              1,
              "#f0f921"
             ]
            ],
            "type": "histogram2dcontour"
           }
          ],
          "mesh3d": [
           {
            "colorbar": {
             "outlinewidth": 0,
             "ticks": ""
            },
            "type": "mesh3d"
           }
          ],
          "parcoords": [
           {
            "line": {
             "colorbar": {
              "outlinewidth": 0,
              "ticks": ""
             }
            },
            "type": "parcoords"
           }
          ],
          "pie": [
           {
            "automargin": true,
            "type": "pie"
           }
          ],
          "scatter": [
           {
            "marker": {
             "colorbar": {
              "outlinewidth": 0,
              "ticks": ""
             }
            },
            "type": "scatter"
           }
          ],
          "scatter3d": [
           {
            "line": {
             "colorbar": {
              "outlinewidth": 0,
              "ticks": ""
             }
            },
            "marker": {
             "colorbar": {
              "outlinewidth": 0,
              "ticks": ""
             }
            },
            "type": "scatter3d"
           }
          ],
          "scattercarpet": [
           {
            "marker": {
             "colorbar": {
              "outlinewidth": 0,
              "ticks": ""
             }
            },
            "type": "scattercarpet"
           }
          ],
          "scattergeo": [
           {
            "marker": {
             "colorbar": {
              "outlinewidth": 0,
              "ticks": ""
             }
            },
            "type": "scattergeo"
           }
          ],
          "scattergl": [
           {
            "marker": {
             "colorbar": {
              "outlinewidth": 0,
              "ticks": ""
             }
            },
            "type": "scattergl"
           }
          ],
          "scattermapbox": [
           {
            "marker": {
             "colorbar": {
              "outlinewidth": 0,
              "ticks": ""
             }
            },
            "type": "scattermapbox"
           }
          ],
          "scatterpolar": [
           {
            "marker": {
             "colorbar": {
              "outlinewidth": 0,
              "ticks": ""
             }
            },
            "type": "scatterpolar"
           }
          ],
          "scatterpolargl": [
           {
            "marker": {
             "colorbar": {
              "outlinewidth": 0,
              "ticks": ""
             }
            },
            "type": "scatterpolargl"
           }
          ],
          "scatterternary": [
           {
            "marker": {
             "colorbar": {
              "outlinewidth": 0,
              "ticks": ""
             }
            },
            "type": "scatterternary"
           }
          ],
          "surface": [
           {
            "colorbar": {
             "outlinewidth": 0,
             "ticks": ""
            },
            "colorscale": [
             [
              0,
              "#0d0887"
             ],
             [
              0.1111111111111111,
              "#46039f"
             ],
             [
              0.2222222222222222,
              "#7201a8"
             ],
             [
              0.3333333333333333,
              "#9c179e"
             ],
             [
              0.4444444444444444,
              "#bd3786"
             ],
             [
              0.5555555555555556,
              "#d8576b"
             ],
             [
              0.6666666666666666,
              "#ed7953"
             ],
             [
              0.7777777777777778,
              "#fb9f3a"
             ],
             [
              0.8888888888888888,
              "#fdca26"
             ],
             [
              1,
              "#f0f921"
             ]
            ],
            "type": "surface"
           }
          ],
          "table": [
           {
            "cells": {
             "fill": {
              "color": "#EBF0F8"
             },
             "line": {
              "color": "white"
             }
            },
            "header": {
             "fill": {
              "color": "#C8D4E3"
             },
             "line": {
              "color": "white"
             }
            },
            "type": "table"
           }
          ]
         },
         "layout": {
          "annotationdefaults": {
           "arrowcolor": "#2a3f5f",
           "arrowhead": 0,
           "arrowwidth": 1
          },
          "autotypenumbers": "strict",
          "coloraxis": {
           "colorbar": {
            "outlinewidth": 0,
            "ticks": ""
           }
          },
          "colorscale": {
           "diverging": [
            [
             0,
             "#8e0152"
            ],
            [
             0.1,
             "#c51b7d"
            ],
            [
             0.2,
             "#de77ae"
            ],
            [
             0.3,
             "#f1b6da"
            ],
            [
             0.4,
             "#fde0ef"
            ],
            [
             0.5,
             "#f7f7f7"
            ],
            [
             0.6,
             "#e6f5d0"
            ],
            [
             0.7,
             "#b8e186"
            ],
            [
             0.8,
             "#7fbc41"
            ],
            [
             0.9,
             "#4d9221"
            ],
            [
             1,
             "#276419"
            ]
           ],
           "sequential": [
            [
             0,
             "#0d0887"
            ],
            [
             0.1111111111111111,
             "#46039f"
            ],
            [
             0.2222222222222222,
             "#7201a8"
            ],
            [
             0.3333333333333333,
             "#9c179e"
            ],
            [
             0.4444444444444444,
             "#bd3786"
            ],
            [
             0.5555555555555556,
             "#d8576b"
            ],
            [
             0.6666666666666666,
             "#ed7953"
            ],
            [
             0.7777777777777778,
             "#fb9f3a"
            ],
            [
             0.8888888888888888,
             "#fdca26"
            ],
            [
             1,
             "#f0f921"
            ]
           ],
           "sequentialminus": [
            [
             0,
             "#0d0887"
            ],
            [
             0.1111111111111111,
             "#46039f"
            ],
            [
             0.2222222222222222,
             "#7201a8"
            ],
            [
             0.3333333333333333,
             "#9c179e"
            ],
            [
             0.4444444444444444,
             "#bd3786"
            ],
            [
             0.5555555555555556,
             "#d8576b"
            ],
            [
             0.6666666666666666,
             "#ed7953"
            ],
            [
             0.7777777777777778,
             "#fb9f3a"
            ],
            [
             0.8888888888888888,
             "#fdca26"
            ],
            [
             1,
             "#f0f921"
            ]
           ]
          },
          "colorway": [
           "#636efa",
           "#EF553B",
           "#00cc96",
           "#ab63fa",
           "#FFA15A",
           "#19d3f3",
           "#FF6692",
           "#B6E880",
           "#FF97FF",
           "#FECB52"
          ],
          "font": {
           "color": "#2a3f5f"
          },
          "geo": {
           "bgcolor": "white",
           "lakecolor": "white",
           "landcolor": "#E5ECF6",
           "showlakes": true,
           "showland": true,
           "subunitcolor": "white"
          },
          "hoverlabel": {
           "align": "left"
          },
          "hovermode": "closest",
          "mapbox": {
           "style": "light"
          },
          "paper_bgcolor": "white",
          "plot_bgcolor": "#E5ECF6",
          "polar": {
           "angularaxis": {
            "gridcolor": "white",
            "linecolor": "white",
            "ticks": ""
           },
           "bgcolor": "#E5ECF6",
           "radialaxis": {
            "gridcolor": "white",
            "linecolor": "white",
            "ticks": ""
           }
          },
          "scene": {
           "xaxis": {
            "backgroundcolor": "#E5ECF6",
            "gridcolor": "white",
            "gridwidth": 2,
            "linecolor": "white",
            "showbackground": true,
            "ticks": "",
            "zerolinecolor": "white"
           },
           "yaxis": {
            "backgroundcolor": "#E5ECF6",
            "gridcolor": "white",
            "gridwidth": 2,
            "linecolor": "white",
            "showbackground": true,
            "ticks": "",
            "zerolinecolor": "white"
           },
           "zaxis": {
            "backgroundcolor": "#E5ECF6",
            "gridcolor": "white",
            "gridwidth": 2,
            "linecolor": "white",
            "showbackground": true,
            "ticks": "",
            "zerolinecolor": "white"
           }
          },
          "shapedefaults": {
           "line": {
            "color": "#2a3f5f"
           }
          },
          "ternary": {
           "aaxis": {
            "gridcolor": "white",
            "linecolor": "white",
            "ticks": ""
           },
           "baxis": {
            "gridcolor": "white",
            "linecolor": "white",
            "ticks": ""
           },
           "bgcolor": "#E5ECF6",
           "caxis": {
            "gridcolor": "white",
            "linecolor": "white",
            "ticks": ""
           }
          },
          "title": {
           "x": 0.05
          },
          "xaxis": {
           "automargin": true,
           "gridcolor": "white",
           "linecolor": "white",
           "ticks": "",
           "title": {
            "standoff": 15
           },
           "zerolinecolor": "white",
           "zerolinewidth": 2
          },
          "yaxis": {
           "automargin": true,
           "gridcolor": "white",
           "linecolor": "white",
           "ticks": "",
           "title": {
            "standoff": 15
           },
           "zerolinecolor": "white",
           "zerolinewidth": 2
          }
         }
        },
        "title": {
         "text": "True Null values % by columns (zoom)"
        },
        "xaxis": {
         "anchor": "y",
         "domain": [
          0,
          1
         ],
         "title": {
          "text": "index"
         }
        },
        "yaxis": {
         "anchor": "x",
         "domain": [
          0,
          1
         ],
         "title": {
          "text": "value"
         }
        }
       }
      }
     },
     "metadata": {},
     "output_type": "display_data"
    }
   ],
   "source": [
    "px.bar(100*(df[df.columns[-15:-3]].isna().sum())/5096,text_auto=\".3\", title=\"True Null values % by columns (zoom)\")"
   ]
  },
  {
   "cell_type": "code",
   "execution_count": 152,
   "metadata": {},
   "outputs": [
    {
     "data": {
      "application/vnd.plotly.v1+json": {
       "config": {
        "plotlyServerURL": "https://plot.ly"
       },
       "data": [
        {
         "alignmentgroup": "True",
         "hovertemplate": "variable=0<br>index=%{x}<br>value=%{y}<extra></extra>",
         "legendgroup": "0",
         "marker": {
          "color": "#636efa",
          "pattern": {
           "shape": ""
          }
         },
         "name": "0",
         "offsetgroup": "0",
         "orientation": "v",
         "showlegend": true,
         "textposition": "auto",
         "texttemplate": "%{y:.3}",
         "type": "bar",
         "x": [
          "Redditività del capitale proprio (ROE) (%)\n%\nAnno - 1",
          "Redditività del capitale proprio (ROE) (%)\n%\nAnno - 2",
          "Redditività del capitale proprio (ROE) (%)\n%\nAnno - 3",
          "Redditività di tutto il capitale investito (ROI) (%)\n%\nAnno - 1",
          "Redditività di tutto il capitale investito (ROI) (%)\n%\nAnno - 2",
          "Redditività di tutto il capitale investito (ROI) (%)\n%\nAnno - 3",
          "Rotaz. cap. investito (volte)\nAnno - 1",
          "Rotaz. cap. investito (volte)\nAnno - 2",
          "Rotaz. cap. investito (volte)\nAnno - 3",
          "Indice corrente\nAnno - 1",
          "Indice corrente\nAnno - 2",
          "Indice corrente\nAnno - 3"
         ],
         "xaxis": "x",
         "y": [
          9.870486656200942,
          9.321036106750393,
          9.968602825745682,
          52.33516483516483,
          53.944270015698585,
          54.47409733124019,
          3.512558869701727,
          3.5518053375196232,
          3.630298273155416,
          1.903453689167975,
          1.9230769230769231,
          2.119309262166405
         ],
         "yaxis": "y"
        }
       ],
       "layout": {
        "barmode": "relative",
        "legend": {
         "title": {
          "text": "variable"
         },
         "tracegroupgap": 0
        },
        "template": {
         "data": {
          "bar": [
           {
            "error_x": {
             "color": "#2a3f5f"
            },
            "error_y": {
             "color": "#2a3f5f"
            },
            "marker": {
             "line": {
              "color": "#E5ECF6",
              "width": 0.5
             },
             "pattern": {
              "fillmode": "overlay",
              "size": 10,
              "solidity": 0.2
             }
            },
            "type": "bar"
           }
          ],
          "barpolar": [
           {
            "marker": {
             "line": {
              "color": "#E5ECF6",
              "width": 0.5
             },
             "pattern": {
              "fillmode": "overlay",
              "size": 10,
              "solidity": 0.2
             }
            },
            "type": "barpolar"
           }
          ],
          "carpet": [
           {
            "aaxis": {
             "endlinecolor": "#2a3f5f",
             "gridcolor": "white",
             "linecolor": "white",
             "minorgridcolor": "white",
             "startlinecolor": "#2a3f5f"
            },
            "baxis": {
             "endlinecolor": "#2a3f5f",
             "gridcolor": "white",
             "linecolor": "white",
             "minorgridcolor": "white",
             "startlinecolor": "#2a3f5f"
            },
            "type": "carpet"
           }
          ],
          "choropleth": [
           {
            "colorbar": {
             "outlinewidth": 0,
             "ticks": ""
            },
            "type": "choropleth"
           }
          ],
          "contour": [
           {
            "colorbar": {
             "outlinewidth": 0,
             "ticks": ""
            },
            "colorscale": [
             [
              0,
              "#0d0887"
             ],
             [
              0.1111111111111111,
              "#46039f"
             ],
             [
              0.2222222222222222,
              "#7201a8"
             ],
             [
              0.3333333333333333,
              "#9c179e"
             ],
             [
              0.4444444444444444,
              "#bd3786"
             ],
             [
              0.5555555555555556,
              "#d8576b"
             ],
             [
              0.6666666666666666,
              "#ed7953"
             ],
             [
              0.7777777777777778,
              "#fb9f3a"
             ],
             [
              0.8888888888888888,
              "#fdca26"
             ],
             [
              1,
              "#f0f921"
             ]
            ],
            "type": "contour"
           }
          ],
          "contourcarpet": [
           {
            "colorbar": {
             "outlinewidth": 0,
             "ticks": ""
            },
            "type": "contourcarpet"
           }
          ],
          "heatmap": [
           {
            "colorbar": {
             "outlinewidth": 0,
             "ticks": ""
            },
            "colorscale": [
             [
              0,
              "#0d0887"
             ],
             [
              0.1111111111111111,
              "#46039f"
             ],
             [
              0.2222222222222222,
              "#7201a8"
             ],
             [
              0.3333333333333333,
              "#9c179e"
             ],
             [
              0.4444444444444444,
              "#bd3786"
             ],
             [
              0.5555555555555556,
              "#d8576b"
             ],
             [
              0.6666666666666666,
              "#ed7953"
             ],
             [
              0.7777777777777778,
              "#fb9f3a"
             ],
             [
              0.8888888888888888,
              "#fdca26"
             ],
             [
              1,
              "#f0f921"
             ]
            ],
            "type": "heatmap"
           }
          ],
          "heatmapgl": [
           {
            "colorbar": {
             "outlinewidth": 0,
             "ticks": ""
            },
            "colorscale": [
             [
              0,
              "#0d0887"
             ],
             [
              0.1111111111111111,
              "#46039f"
             ],
             [
              0.2222222222222222,
              "#7201a8"
             ],
             [
              0.3333333333333333,
              "#9c179e"
             ],
             [
              0.4444444444444444,
              "#bd3786"
             ],
             [
              0.5555555555555556,
              "#d8576b"
             ],
             [
              0.6666666666666666,
              "#ed7953"
             ],
             [
              0.7777777777777778,
              "#fb9f3a"
             ],
             [
              0.8888888888888888,
              "#fdca26"
             ],
             [
              1,
              "#f0f921"
             ]
            ],
            "type": "heatmapgl"
           }
          ],
          "histogram": [
           {
            "marker": {
             "pattern": {
              "fillmode": "overlay",
              "size": 10,
              "solidity": 0.2
             }
            },
            "type": "histogram"
           }
          ],
          "histogram2d": [
           {
            "colorbar": {
             "outlinewidth": 0,
             "ticks": ""
            },
            "colorscale": [
             [
              0,
              "#0d0887"
             ],
             [
              0.1111111111111111,
              "#46039f"
             ],
             [
              0.2222222222222222,
              "#7201a8"
             ],
             [
              0.3333333333333333,
              "#9c179e"
             ],
             [
              0.4444444444444444,
              "#bd3786"
             ],
             [
              0.5555555555555556,
              "#d8576b"
             ],
             [
              0.6666666666666666,
              "#ed7953"
             ],
             [
              0.7777777777777778,
              "#fb9f3a"
             ],
             [
              0.8888888888888888,
              "#fdca26"
             ],
             [
              1,
              "#f0f921"
             ]
            ],
            "type": "histogram2d"
           }
          ],
          "histogram2dcontour": [
           {
            "colorbar": {
             "outlinewidth": 0,
             "ticks": ""
            },
            "colorscale": [
             [
              0,
              "#0d0887"
             ],
             [
              0.1111111111111111,
              "#46039f"
             ],
             [
              0.2222222222222222,
              "#7201a8"
             ],
             [
              0.3333333333333333,
              "#9c179e"
             ],
             [
              0.4444444444444444,
              "#bd3786"
             ],
             [
              0.5555555555555556,
              "#d8576b"
             ],
             [
              0.6666666666666666,
              "#ed7953"
             ],
             [
              0.7777777777777778,
              "#fb9f3a"
             ],
             [
              0.8888888888888888,
              "#fdca26"
             ],
             [
              1,
              "#f0f921"
             ]
            ],
            "type": "histogram2dcontour"
           }
          ],
          "mesh3d": [
           {
            "colorbar": {
             "outlinewidth": 0,
             "ticks": ""
            },
            "type": "mesh3d"
           }
          ],
          "parcoords": [
           {
            "line": {
             "colorbar": {
              "outlinewidth": 0,
              "ticks": ""
             }
            },
            "type": "parcoords"
           }
          ],
          "pie": [
           {
            "automargin": true,
            "type": "pie"
           }
          ],
          "scatter": [
           {
            "marker": {
             "colorbar": {
              "outlinewidth": 0,
              "ticks": ""
             }
            },
            "type": "scatter"
           }
          ],
          "scatter3d": [
           {
            "line": {
             "colorbar": {
              "outlinewidth": 0,
              "ticks": ""
             }
            },
            "marker": {
             "colorbar": {
              "outlinewidth": 0,
              "ticks": ""
             }
            },
            "type": "scatter3d"
           }
          ],
          "scattercarpet": [
           {
            "marker": {
             "colorbar": {
              "outlinewidth": 0,
              "ticks": ""
             }
            },
            "type": "scattercarpet"
           }
          ],
          "scattergeo": [
           {
            "marker": {
             "colorbar": {
              "outlinewidth": 0,
              "ticks": ""
             }
            },
            "type": "scattergeo"
           }
          ],
          "scattergl": [
           {
            "marker": {
             "colorbar": {
              "outlinewidth": 0,
              "ticks": ""
             }
            },
            "type": "scattergl"
           }
          ],
          "scattermapbox": [
           {
            "marker": {
             "colorbar": {
              "outlinewidth": 0,
              "ticks": ""
             }
            },
            "type": "scattermapbox"
           }
          ],
          "scatterpolar": [
           {
            "marker": {
             "colorbar": {
              "outlinewidth": 0,
              "ticks": ""
             }
            },
            "type": "scatterpolar"
           }
          ],
          "scatterpolargl": [
           {
            "marker": {
             "colorbar": {
              "outlinewidth": 0,
              "ticks": ""
             }
            },
            "type": "scatterpolargl"
           }
          ],
          "scatterternary": [
           {
            "marker": {
             "colorbar": {
              "outlinewidth": 0,
              "ticks": ""
             }
            },
            "type": "scatterternary"
           }
          ],
          "surface": [
           {
            "colorbar": {
             "outlinewidth": 0,
             "ticks": ""
            },
            "colorscale": [
             [
              0,
              "#0d0887"
             ],
             [
              0.1111111111111111,
              "#46039f"
             ],
             [
              0.2222222222222222,
              "#7201a8"
             ],
             [
              0.3333333333333333,
              "#9c179e"
             ],
             [
              0.4444444444444444,
              "#bd3786"
             ],
             [
              0.5555555555555556,
              "#d8576b"
             ],
             [
              0.6666666666666666,
              "#ed7953"
             ],
             [
              0.7777777777777778,
              "#fb9f3a"
             ],
             [
              0.8888888888888888,
              "#fdca26"
             ],
             [
              1,
              "#f0f921"
             ]
            ],
            "type": "surface"
           }
          ],
          "table": [
           {
            "cells": {
             "fill": {
              "color": "#EBF0F8"
             },
             "line": {
              "color": "white"
             }
            },
            "header": {
             "fill": {
              "color": "#C8D4E3"
             },
             "line": {
              "color": "white"
             }
            },
            "type": "table"
           }
          ]
         },
         "layout": {
          "annotationdefaults": {
           "arrowcolor": "#2a3f5f",
           "arrowhead": 0,
           "arrowwidth": 1
          },
          "autotypenumbers": "strict",
          "coloraxis": {
           "colorbar": {
            "outlinewidth": 0,
            "ticks": ""
           }
          },
          "colorscale": {
           "diverging": [
            [
             0,
             "#8e0152"
            ],
            [
             0.1,
             "#c51b7d"
            ],
            [
             0.2,
             "#de77ae"
            ],
            [
             0.3,
             "#f1b6da"
            ],
            [
             0.4,
             "#fde0ef"
            ],
            [
             0.5,
             "#f7f7f7"
            ],
            [
             0.6,
             "#e6f5d0"
            ],
            [
             0.7,
             "#b8e186"
            ],
            [
             0.8,
             "#7fbc41"
            ],
            [
             0.9,
             "#4d9221"
            ],
            [
             1,
             "#276419"
            ]
           ],
           "sequential": [
            [
             0,
             "#0d0887"
            ],
            [
             0.1111111111111111,
             "#46039f"
            ],
            [
             0.2222222222222222,
             "#7201a8"
            ],
            [
             0.3333333333333333,
             "#9c179e"
            ],
            [
             0.4444444444444444,
             "#bd3786"
            ],
            [
             0.5555555555555556,
             "#d8576b"
            ],
            [
             0.6666666666666666,
             "#ed7953"
            ],
            [
             0.7777777777777778,
             "#fb9f3a"
            ],
            [
             0.8888888888888888,
             "#fdca26"
            ],
            [
             1,
             "#f0f921"
            ]
           ],
           "sequentialminus": [
            [
             0,
             "#0d0887"
            ],
            [
             0.1111111111111111,
             "#46039f"
            ],
            [
             0.2222222222222222,
             "#7201a8"
            ],
            [
             0.3333333333333333,
             "#9c179e"
            ],
            [
             0.4444444444444444,
             "#bd3786"
            ],
            [
             0.5555555555555556,
             "#d8576b"
            ],
            [
             0.6666666666666666,
             "#ed7953"
            ],
            [
             0.7777777777777778,
             "#fb9f3a"
            ],
            [
             0.8888888888888888,
             "#fdca26"
            ],
            [
             1,
             "#f0f921"
            ]
           ]
          },
          "colorway": [
           "#636efa",
           "#EF553B",
           "#00cc96",
           "#ab63fa",
           "#FFA15A",
           "#19d3f3",
           "#FF6692",
           "#B6E880",
           "#FF97FF",
           "#FECB52"
          ],
          "font": {
           "color": "#2a3f5f"
          },
          "geo": {
           "bgcolor": "white",
           "lakecolor": "white",
           "landcolor": "#E5ECF6",
           "showlakes": true,
           "showland": true,
           "subunitcolor": "white"
          },
          "hoverlabel": {
           "align": "left"
          },
          "hovermode": "closest",
          "mapbox": {
           "style": "light"
          },
          "paper_bgcolor": "white",
          "plot_bgcolor": "#E5ECF6",
          "polar": {
           "angularaxis": {
            "gridcolor": "white",
            "linecolor": "white",
            "ticks": ""
           },
           "bgcolor": "#E5ECF6",
           "radialaxis": {
            "gridcolor": "white",
            "linecolor": "white",
            "ticks": ""
           }
          },
          "scene": {
           "xaxis": {
            "backgroundcolor": "#E5ECF6",
            "gridcolor": "white",
            "gridwidth": 2,
            "linecolor": "white",
            "showbackground": true,
            "ticks": "",
            "zerolinecolor": "white"
           },
           "yaxis": {
            "backgroundcolor": "#E5ECF6",
            "gridcolor": "white",
            "gridwidth": 2,
            "linecolor": "white",
            "showbackground": true,
            "ticks": "",
            "zerolinecolor": "white"
           },
           "zaxis": {
            "backgroundcolor": "#E5ECF6",
            "gridcolor": "white",
            "gridwidth": 2,
            "linecolor": "white",
            "showbackground": true,
            "ticks": "",
            "zerolinecolor": "white"
           }
          },
          "shapedefaults": {
           "line": {
            "color": "#2a3f5f"
           }
          },
          "ternary": {
           "aaxis": {
            "gridcolor": "white",
            "linecolor": "white",
            "ticks": ""
           },
           "baxis": {
            "gridcolor": "white",
            "linecolor": "white",
            "ticks": ""
           },
           "bgcolor": "#E5ECF6",
           "caxis": {
            "gridcolor": "white",
            "linecolor": "white",
            "ticks": ""
           }
          },
          "title": {
           "x": 0.05
          },
          "xaxis": {
           "automargin": true,
           "gridcolor": "white",
           "linecolor": "white",
           "ticks": "",
           "title": {
            "standoff": 15
           },
           "zerolinecolor": "white",
           "zerolinewidth": 2
          },
          "yaxis": {
           "automargin": true,
           "gridcolor": "white",
           "linecolor": "white",
           "ticks": "",
           "title": {
            "standoff": 15
           },
           "zerolinecolor": "white",
           "zerolinewidth": 2
          }
         }
        },
        "title": {
         "text": "True + Fake Null values % by columns (zoom)"
        },
        "xaxis": {
         "anchor": "y",
         "domain": [
          0,
          1
         ],
         "title": {
          "text": "index"
         }
        },
        "yaxis": {
         "anchor": "x",
         "domain": [
          0,
          1
         ],
         "title": {
          "text": "value"
         }
        }
       }
      }
     },
     "metadata": {},
     "output_type": "display_data"
    }
   ],
   "source": [
    "px.bar(100*(df_fake_na[df_fake_na.columns[-15:-3]].isna().sum())/5096,text_auto=\".3\", title=\"True + Fake Null values % by columns (zoom)\")"
   ]
  },
  {
   "cell_type": "markdown",
   "metadata": {},
   "source": [
    "### Keep in mind that our imputer must perform better on these columns, so we should weight errors on those columns heavier (see next cell)"
   ]
  },
  {
   "cell_type": "markdown",
   "metadata": {},
   "source": [
    "---"
   ]
  },
  {
   "cell_type": "markdown",
   "metadata": {},
   "source": [
    "### Test for k between 1 and 10"
   ]
  },
  {
   "cell_type": "code",
   "execution_count": 153,
   "metadata": {},
   "outputs": [
    {
     "name": "stdout",
     "output_type": "stream",
     "text": [
      "-----------------\n",
      "Results for k = 1\n",
      "Mse: 160378.41691635567\n",
      "Mse principal nan columns: 182.17003502218668\n",
      "-----------------\n",
      "Results for k = 2\n",
      "Mse: 155026.94516537216\n",
      "Mse principal nan columns: 40.84006114304241\n",
      "-----------------\n",
      "Results for k = 3\n",
      "Mse: 163658.790773146\n",
      "Mse principal nan columns: 21.804503079344745\n",
      "-----------------\n",
      "Results for k = 4\n",
      "Mse: 245606.09124601123\n",
      "Mse principal nan columns: 14.035730893629959\n",
      "-----------------\n",
      "Results for k = 5\n",
      "Mse: 324940.7394162503\n",
      "Mse principal nan columns: 14.532439698388812\n",
      "-----------------\n",
      "Results for k = 6\n",
      "Mse: 491435.6568254553\n",
      "Mse principal nan columns: 9.149938720406029\n",
      "-----------------\n",
      "Results for k = 7\n",
      "Mse: 692037.9853661237\n",
      "Mse principal nan columns: 8.202293711592054\n",
      "-----------------\n",
      "Results for k = 8\n",
      "Mse: 596214.9261507913\n",
      "Mse principal nan columns: 8.609428177067619\n",
      "-----------------\n",
      "Results for k = 9\n",
      "Mse: 548814.6660798108\n",
      "Mse principal nan columns: 7.093426269853906\n",
      "-----------------\n",
      "Results for k = 10\n",
      "Mse: 498597.3188552557\n",
      "Mse principal nan columns: 8.75961072984486\n",
      "-----------------\n",
      "Results for k = 11\n",
      "Mse: 550270.5468154926\n",
      "Mse principal nan columns: 7.777943931752682\n",
      "-----------------\n",
      "Results for k = 12\n",
      "Mse: 506409.86105114495\n",
      "Mse principal nan columns: 1.7097604555815895\n",
      "-----------------\n",
      "Results for k = 13\n",
      "Mse: 450771.16248582816\n",
      "Mse principal nan columns: 1.8137825836492771\n",
      "-----------------\n",
      "Results for k = 14\n",
      "Mse: 342789.16857001104\n",
      "Mse principal nan columns: 0.988432879967085\n",
      "-----------------\n",
      "Results for k = 15\n",
      "Mse: 229297.3169967596\n",
      "Mse principal nan columns: 1.0826666103805633\n"
     ]
    }
   ],
   "source": [
    "df_evaluation = pd.DataFrame(columns=[\"k = \" + str(k) for k in range(1,16)], index = df.columns)\n",
    "df_errors = pd.DataFrame(columns=[\"k = \" + str(k) for k in range(1,16)],index=[\"MSE\",\"MSE principal nan columns\"])\n",
    "for k in range(1,16):\n",
    "    imputer = KNNImputer(n_neighbors=k) #create imputer\n",
    "    df_full_filled = pd.DataFrame(data = imputer.fit_transform(df_fake_na), columns=df.columns, index=df.index) #use on dataset with fake nan\n",
    "    df_result = (100*(df_full_filled - df)/ df) # percentage error #The null of the original dataset will propagate back to df_result \n",
    "    df_result.replace(float(\"nan\"), value=0,inplace=True) #get rid of the true null, make them zero (they will not count in error calculation)\n",
    "    df_result.replace(float(\"inf\"), value=0,inplace=True) #get rid of some inf value causated by a few zeros in the original dataset\n",
    "    df_zeros = df_result * 0  # df_zeros will be our ideal perfect result (all diff between df_filled and df to zero)\n",
    "    mse = mean_squared_error(df_zeros, df_result/100) #calculating mse on all the dataset \n",
    "    mse_nans_cols = mean_squared_error(df_zeros[df.columns[-15:-3]], (df_result[df.columns[-15:-3]])/100) #calculating mse on all the dataset on most important columns\n",
    "    print(\"-----------------\") #print the result and save on df_evaluation and df_errors\n",
    "    print(\"Results for k = \"+str(k))\n",
    "    print(\"Mse: \"+str(mse))\n",
    "    print(\"Mse principal nan columns: \"+str(mse_nans_cols))\n",
    "    df_evaluation[\"k = \" + str(k)] = list(df_result.mean())\n",
    "    df_errors[\"k = \" + str(k)] = [mse,mse_nans_cols]\n",
    "    "
   ]
  },
  {
   "cell_type": "markdown",
   "metadata": {},
   "source": [
    "## Visualize results"
   ]
  },
  {
   "cell_type": "code",
   "execution_count": 154,
   "metadata": {},
   "outputs": [
    {
     "data": {
      "text/html": [
       "<div>\n",
       "<style scoped>\n",
       "    .dataframe tbody tr th:only-of-type {\n",
       "        vertical-align: middle;\n",
       "    }\n",
       "\n",
       "    .dataframe tbody tr th {\n",
       "        vertical-align: top;\n",
       "    }\n",
       "\n",
       "    .dataframe thead th {\n",
       "        text-align: right;\n",
       "    }\n",
       "</style>\n",
       "<table border=\"1\" class=\"dataframe\">\n",
       "  <thead>\n",
       "    <tr style=\"text-align: right;\">\n",
       "      <th></th>\n",
       "      <th>k = 1</th>\n",
       "      <th>k = 2</th>\n",
       "      <th>k = 3</th>\n",
       "      <th>k = 4</th>\n",
       "      <th>k = 5</th>\n",
       "      <th>k = 6</th>\n",
       "      <th>k = 7</th>\n",
       "      <th>k = 8</th>\n",
       "      <th>k = 9</th>\n",
       "      <th>k = 10</th>\n",
       "      <th>k = 11</th>\n",
       "      <th>k = 12</th>\n",
       "      <th>k = 13</th>\n",
       "      <th>k = 14</th>\n",
       "      <th>k = 15</th>\n",
       "    </tr>\n",
       "  </thead>\n",
       "  <tbody>\n",
       "    <tr>\n",
       "      <th>Anno di costituzione</th>\n",
       "      <td>0.066910</td>\n",
       "      <td>0.149397</td>\n",
       "      <td>0.155386</td>\n",
       "      <td>0.170030</td>\n",
       "      <td>0.169148</td>\n",
       "      <td>0.205028</td>\n",
       "      <td>0.205119</td>\n",
       "      <td>0.195907</td>\n",
       "      <td>0.196206</td>\n",
       "      <td>0.205095</td>\n",
       "      <td>0.208618</td>\n",
       "      <td>0.206702</td>\n",
       "      <td>0.203886</td>\n",
       "      <td>0.198233</td>\n",
       "      <td>0.202622</td>\n",
       "    </tr>\n",
       "    <tr>\n",
       "      <th>Dipendenti\\nAnno - 1</th>\n",
       "      <td>0.073307</td>\n",
       "      <td>0.144106</td>\n",
       "      <td>0.130057</td>\n",
       "      <td>0.077344</td>\n",
       "      <td>0.081644</td>\n",
       "      <td>0.115844</td>\n",
       "      <td>0.110623</td>\n",
       "      <td>0.114543</td>\n",
       "      <td>0.108149</td>\n",
       "      <td>0.100151</td>\n",
       "      <td>0.095845</td>\n",
       "      <td>0.101727</td>\n",
       "      <td>0.112542</td>\n",
       "      <td>0.102785</td>\n",
       "      <td>0.105196</td>\n",
       "    </tr>\n",
       "    <tr>\n",
       "      <th>Dipendenti\\nAnno - 2</th>\n",
       "      <td>0.196227</td>\n",
       "      <td>0.243185</td>\n",
       "      <td>0.222575</td>\n",
       "      <td>0.207877</td>\n",
       "      <td>0.210815</td>\n",
       "      <td>0.202249</td>\n",
       "      <td>0.227317</td>\n",
       "      <td>0.236690</td>\n",
       "      <td>0.287321</td>\n",
       "      <td>0.276153</td>\n",
       "      <td>0.278423</td>\n",
       "      <td>0.278510</td>\n",
       "      <td>0.263452</td>\n",
       "      <td>0.262321</td>\n",
       "      <td>0.248906</td>\n",
       "    </tr>\n",
       "    <tr>\n",
       "      <th>Dipendenti\\nAnno - 3</th>\n",
       "      <td>0.220118</td>\n",
       "      <td>0.104986</td>\n",
       "      <td>0.224179</td>\n",
       "      <td>0.270552</td>\n",
       "      <td>0.265478</td>\n",
       "      <td>2.836749</td>\n",
       "      <td>2.458232</td>\n",
       "      <td>2.192755</td>\n",
       "      <td>3.490846</td>\n",
       "      <td>3.194441</td>\n",
       "      <td>3.805734</td>\n",
       "      <td>3.532926</td>\n",
       "      <td>3.300437</td>\n",
       "      <td>3.109879</td>\n",
       "      <td>2.935187</td>\n",
       "    </tr>\n",
       "    <tr>\n",
       "      <th>Ricavi vendite e prestazioni\\nmigl EUR\\nAnno - 1</th>\n",
       "      <td>69.723456</td>\n",
       "      <td>54.504137</td>\n",
       "      <td>41.573753</td>\n",
       "      <td>50.926805</td>\n",
       "      <td>50.976469</td>\n",
       "      <td>50.687619</td>\n",
       "      <td>51.855783</td>\n",
       "      <td>51.540169</td>\n",
       "      <td>51.921776</td>\n",
       "      <td>50.462014</td>\n",
       "      <td>51.608786</td>\n",
       "      <td>52.484516</td>\n",
       "      <td>52.486768</td>\n",
       "      <td>53.072523</td>\n",
       "      <td>53.217032</td>\n",
       "    </tr>\n",
       "    <tr>\n",
       "      <th>...</th>\n",
       "      <td>...</td>\n",
       "      <td>...</td>\n",
       "      <td>...</td>\n",
       "      <td>...</td>\n",
       "      <td>...</td>\n",
       "      <td>...</td>\n",
       "      <td>...</td>\n",
       "      <td>...</td>\n",
       "      <td>...</td>\n",
       "      <td>...</td>\n",
       "      <td>...</td>\n",
       "      <td>...</td>\n",
       "      <td>...</td>\n",
       "      <td>...</td>\n",
       "      <td>...</td>\n",
       "    </tr>\n",
       "    <tr>\n",
       "      <th>Indice corrente\\nAnno - 2</th>\n",
       "      <td>0.428691</td>\n",
       "      <td>0.351834</td>\n",
       "      <td>0.400156</td>\n",
       "      <td>0.396842</td>\n",
       "      <td>0.430051</td>\n",
       "      <td>0.415687</td>\n",
       "      <td>0.422864</td>\n",
       "      <td>0.474035</td>\n",
       "      <td>0.475194</td>\n",
       "      <td>0.510123</td>\n",
       "      <td>0.502452</td>\n",
       "      <td>0.506896</td>\n",
       "      <td>0.522955</td>\n",
       "      <td>0.589745</td>\n",
       "      <td>0.594619</td>\n",
       "    </tr>\n",
       "    <tr>\n",
       "      <th>Indice corrente\\nAnno - 3</th>\n",
       "      <td>0.381701</td>\n",
       "      <td>0.471609</td>\n",
       "      <td>0.491723</td>\n",
       "      <td>0.573877</td>\n",
       "      <td>0.626703</td>\n",
       "      <td>0.604795</td>\n",
       "      <td>0.677284</td>\n",
       "      <td>0.671094</td>\n",
       "      <td>0.655858</td>\n",
       "      <td>0.656113</td>\n",
       "      <td>0.707940</td>\n",
       "      <td>0.729135</td>\n",
       "      <td>0.729285</td>\n",
       "      <td>0.727657</td>\n",
       "      <td>0.701234</td>\n",
       "    </tr>\n",
       "    <tr>\n",
       "      <th>Rapporto di indebitamento\\nAnno - 1</th>\n",
       "      <td>0.050769</td>\n",
       "      <td>-0.087772</td>\n",
       "      <td>0.037425</td>\n",
       "      <td>0.046400</td>\n",
       "      <td>0.110821</td>\n",
       "      <td>0.114969</td>\n",
       "      <td>0.078371</td>\n",
       "      <td>0.062516</td>\n",
       "      <td>0.095278</td>\n",
       "      <td>0.184793</td>\n",
       "      <td>0.213116</td>\n",
       "      <td>0.195260</td>\n",
       "      <td>0.285188</td>\n",
       "      <td>0.387817</td>\n",
       "      <td>0.346813</td>\n",
       "    </tr>\n",
       "    <tr>\n",
       "      <th>Rapporto di indebitamento\\nAnno - 2</th>\n",
       "      <td>0.656220</td>\n",
       "      <td>0.488315</td>\n",
       "      <td>0.899603</td>\n",
       "      <td>0.840146</td>\n",
       "      <td>0.585793</td>\n",
       "      <td>0.584697</td>\n",
       "      <td>0.652339</td>\n",
       "      <td>0.773056</td>\n",
       "      <td>0.802018</td>\n",
       "      <td>0.795571</td>\n",
       "      <td>0.816280</td>\n",
       "      <td>0.796379</td>\n",
       "      <td>0.787703</td>\n",
       "      <td>0.653814</td>\n",
       "      <td>0.664457</td>\n",
       "    </tr>\n",
       "    <tr>\n",
       "      <th>Rapporto di indebitamento\\nAnno - 3</th>\n",
       "      <td>0.755198</td>\n",
       "      <td>0.241029</td>\n",
       "      <td>0.235612</td>\n",
       "      <td>0.182765</td>\n",
       "      <td>0.218365</td>\n",
       "      <td>0.154951</td>\n",
       "      <td>0.153428</td>\n",
       "      <td>0.250960</td>\n",
       "      <td>0.594566</td>\n",
       "      <td>0.594623</td>\n",
       "      <td>0.485802</td>\n",
       "      <td>0.404837</td>\n",
       "      <td>0.368640</td>\n",
       "      <td>0.244018</td>\n",
       "      <td>0.214738</td>\n",
       "    </tr>\n",
       "  </tbody>\n",
       "</table>\n",
       "<p>76 rows × 15 columns</p>\n",
       "</div>"
      ],
      "text/plain": [
       "                                                      k = 1      k = 2  \\\n",
       "Anno di costituzione                               0.066910   0.149397   \n",
       "Dipendenti\\nAnno - 1                               0.073307   0.144106   \n",
       "Dipendenti\\nAnno - 2                               0.196227   0.243185   \n",
       "Dipendenti\\nAnno - 3                               0.220118   0.104986   \n",
       "Ricavi vendite e prestazioni\\nmigl EUR\\nAnno - 1  69.723456  54.504137   \n",
       "...                                                     ...        ...   \n",
       "Indice corrente\\nAnno - 2                          0.428691   0.351834   \n",
       "Indice corrente\\nAnno - 3                          0.381701   0.471609   \n",
       "Rapporto di indebitamento\\nAnno - 1                0.050769  -0.087772   \n",
       "Rapporto di indebitamento\\nAnno - 2                0.656220   0.488315   \n",
       "Rapporto di indebitamento\\nAnno - 3                0.755198   0.241029   \n",
       "\n",
       "                                                      k = 3      k = 4  \\\n",
       "Anno di costituzione                               0.155386   0.170030   \n",
       "Dipendenti\\nAnno - 1                               0.130057   0.077344   \n",
       "Dipendenti\\nAnno - 2                               0.222575   0.207877   \n",
       "Dipendenti\\nAnno - 3                               0.224179   0.270552   \n",
       "Ricavi vendite e prestazioni\\nmigl EUR\\nAnno - 1  41.573753  50.926805   \n",
       "...                                                     ...        ...   \n",
       "Indice corrente\\nAnno - 2                          0.400156   0.396842   \n",
       "Indice corrente\\nAnno - 3                          0.491723   0.573877   \n",
       "Rapporto di indebitamento\\nAnno - 1                0.037425   0.046400   \n",
       "Rapporto di indebitamento\\nAnno - 2                0.899603   0.840146   \n",
       "Rapporto di indebitamento\\nAnno - 3                0.235612   0.182765   \n",
       "\n",
       "                                                      k = 5      k = 6  \\\n",
       "Anno di costituzione                               0.169148   0.205028   \n",
       "Dipendenti\\nAnno - 1                               0.081644   0.115844   \n",
       "Dipendenti\\nAnno - 2                               0.210815   0.202249   \n",
       "Dipendenti\\nAnno - 3                               0.265478   2.836749   \n",
       "Ricavi vendite e prestazioni\\nmigl EUR\\nAnno - 1  50.976469  50.687619   \n",
       "...                                                     ...        ...   \n",
       "Indice corrente\\nAnno - 2                          0.430051   0.415687   \n",
       "Indice corrente\\nAnno - 3                          0.626703   0.604795   \n",
       "Rapporto di indebitamento\\nAnno - 1                0.110821   0.114969   \n",
       "Rapporto di indebitamento\\nAnno - 2                0.585793   0.584697   \n",
       "Rapporto di indebitamento\\nAnno - 3                0.218365   0.154951   \n",
       "\n",
       "                                                      k = 7      k = 8  \\\n",
       "Anno di costituzione                               0.205119   0.195907   \n",
       "Dipendenti\\nAnno - 1                               0.110623   0.114543   \n",
       "Dipendenti\\nAnno - 2                               0.227317   0.236690   \n",
       "Dipendenti\\nAnno - 3                               2.458232   2.192755   \n",
       "Ricavi vendite e prestazioni\\nmigl EUR\\nAnno - 1  51.855783  51.540169   \n",
       "...                                                     ...        ...   \n",
       "Indice corrente\\nAnno - 2                          0.422864   0.474035   \n",
       "Indice corrente\\nAnno - 3                          0.677284   0.671094   \n",
       "Rapporto di indebitamento\\nAnno - 1                0.078371   0.062516   \n",
       "Rapporto di indebitamento\\nAnno - 2                0.652339   0.773056   \n",
       "Rapporto di indebitamento\\nAnno - 3                0.153428   0.250960   \n",
       "\n",
       "                                                      k = 9     k = 10  \\\n",
       "Anno di costituzione                               0.196206   0.205095   \n",
       "Dipendenti\\nAnno - 1                               0.108149   0.100151   \n",
       "Dipendenti\\nAnno - 2                               0.287321   0.276153   \n",
       "Dipendenti\\nAnno - 3                               3.490846   3.194441   \n",
       "Ricavi vendite e prestazioni\\nmigl EUR\\nAnno - 1  51.921776  50.462014   \n",
       "...                                                     ...        ...   \n",
       "Indice corrente\\nAnno - 2                          0.475194   0.510123   \n",
       "Indice corrente\\nAnno - 3                          0.655858   0.656113   \n",
       "Rapporto di indebitamento\\nAnno - 1                0.095278   0.184793   \n",
       "Rapporto di indebitamento\\nAnno - 2                0.802018   0.795571   \n",
       "Rapporto di indebitamento\\nAnno - 3                0.594566   0.594623   \n",
       "\n",
       "                                                     k = 11     k = 12  \\\n",
       "Anno di costituzione                               0.208618   0.206702   \n",
       "Dipendenti\\nAnno - 1                               0.095845   0.101727   \n",
       "Dipendenti\\nAnno - 2                               0.278423   0.278510   \n",
       "Dipendenti\\nAnno - 3                               3.805734   3.532926   \n",
       "Ricavi vendite e prestazioni\\nmigl EUR\\nAnno - 1  51.608786  52.484516   \n",
       "...                                                     ...        ...   \n",
       "Indice corrente\\nAnno - 2                          0.502452   0.506896   \n",
       "Indice corrente\\nAnno - 3                          0.707940   0.729135   \n",
       "Rapporto di indebitamento\\nAnno - 1                0.213116   0.195260   \n",
       "Rapporto di indebitamento\\nAnno - 2                0.816280   0.796379   \n",
       "Rapporto di indebitamento\\nAnno - 3                0.485802   0.404837   \n",
       "\n",
       "                                                     k = 13     k = 14  \\\n",
       "Anno di costituzione                               0.203886   0.198233   \n",
       "Dipendenti\\nAnno - 1                               0.112542   0.102785   \n",
       "Dipendenti\\nAnno - 2                               0.263452   0.262321   \n",
       "Dipendenti\\nAnno - 3                               3.300437   3.109879   \n",
       "Ricavi vendite e prestazioni\\nmigl EUR\\nAnno - 1  52.486768  53.072523   \n",
       "...                                                     ...        ...   \n",
       "Indice corrente\\nAnno - 2                          0.522955   0.589745   \n",
       "Indice corrente\\nAnno - 3                          0.729285   0.727657   \n",
       "Rapporto di indebitamento\\nAnno - 1                0.285188   0.387817   \n",
       "Rapporto di indebitamento\\nAnno - 2                0.787703   0.653814   \n",
       "Rapporto di indebitamento\\nAnno - 3                0.368640   0.244018   \n",
       "\n",
       "                                                     k = 15  \n",
       "Anno di costituzione                               0.202622  \n",
       "Dipendenti\\nAnno - 1                               0.105196  \n",
       "Dipendenti\\nAnno - 2                               0.248906  \n",
       "Dipendenti\\nAnno - 3                               2.935187  \n",
       "Ricavi vendite e prestazioni\\nmigl EUR\\nAnno - 1  53.217032  \n",
       "...                                                     ...  \n",
       "Indice corrente\\nAnno - 2                          0.594619  \n",
       "Indice corrente\\nAnno - 3                          0.701234  \n",
       "Rapporto di indebitamento\\nAnno - 1                0.346813  \n",
       "Rapporto di indebitamento\\nAnno - 2                0.664457  \n",
       "Rapporto di indebitamento\\nAnno - 3                0.214738  \n",
       "\n",
       "[76 rows x 15 columns]"
      ]
     },
     "execution_count": 154,
     "metadata": {},
     "output_type": "execute_result"
    }
   ],
   "source": [
    "df_evaluation"
   ]
  },
  {
   "cell_type": "code",
   "execution_count": 155,
   "metadata": {},
   "outputs": [
    {
     "data": {
      "text/html": [
       "<div>\n",
       "<style scoped>\n",
       "    .dataframe tbody tr th:only-of-type {\n",
       "        vertical-align: middle;\n",
       "    }\n",
       "\n",
       "    .dataframe tbody tr th {\n",
       "        vertical-align: top;\n",
       "    }\n",
       "\n",
       "    .dataframe thead th {\n",
       "        text-align: right;\n",
       "    }\n",
       "</style>\n",
       "<table border=\"1\" class=\"dataframe\">\n",
       "  <thead>\n",
       "    <tr style=\"text-align: right;\">\n",
       "      <th></th>\n",
       "      <th>k = 1</th>\n",
       "      <th>k = 2</th>\n",
       "      <th>k = 3</th>\n",
       "      <th>k = 4</th>\n",
       "      <th>k = 5</th>\n",
       "      <th>k = 6</th>\n",
       "      <th>k = 7</th>\n",
       "      <th>k = 8</th>\n",
       "      <th>k = 9</th>\n",
       "      <th>k = 10</th>\n",
       "      <th>k = 11</th>\n",
       "      <th>k = 12</th>\n",
       "      <th>k = 13</th>\n",
       "      <th>k = 14</th>\n",
       "      <th>k = 15</th>\n",
       "    </tr>\n",
       "  </thead>\n",
       "  <tbody>\n",
       "    <tr>\n",
       "      <th>Redditività del capitale proprio (ROE) (%)\\n%\\nAnno - 1</th>\n",
       "      <td>-3.768420</td>\n",
       "      <td>-2.041071</td>\n",
       "      <td>-0.704961</td>\n",
       "      <td>-0.405943</td>\n",
       "      <td>-0.299537</td>\n",
       "      <td>-0.193124</td>\n",
       "      <td>0.110489</td>\n",
       "      <td>0.218416</td>\n",
       "      <td>-0.045780</td>\n",
       "      <td>-0.659227</td>\n",
       "      <td>-0.429135</td>\n",
       "      <td>-0.343730</td>\n",
       "      <td>-0.176455</td>\n",
       "      <td>-0.279777</td>\n",
       "      <td>-0.361270</td>\n",
       "    </tr>\n",
       "    <tr>\n",
       "      <th>Redditività del capitale proprio (ROE) (%)\\n%\\nAnno - 2</th>\n",
       "      <td>3.274483</td>\n",
       "      <td>-12.428510</td>\n",
       "      <td>-9.169200</td>\n",
       "      <td>-5.722040</td>\n",
       "      <td>-4.010591</td>\n",
       "      <td>-2.599115</td>\n",
       "      <td>-2.254440</td>\n",
       "      <td>-4.811427</td>\n",
       "      <td>-3.904341</td>\n",
       "      <td>-3.848937</td>\n",
       "      <td>-3.637599</td>\n",
       "      <td>-3.015935</td>\n",
       "      <td>-2.545560</td>\n",
       "      <td>-1.575191</td>\n",
       "      <td>-1.377303</td>\n",
       "    </tr>\n",
       "    <tr>\n",
       "      <th>Redditività del capitale proprio (ROE) (%)\\n%\\nAnno - 3</th>\n",
       "      <td>75.474175</td>\n",
       "      <td>35.341689</td>\n",
       "      <td>29.078387</td>\n",
       "      <td>26.049291</td>\n",
       "      <td>25.992145</td>\n",
       "      <td>21.494050</td>\n",
       "      <td>20.068040</td>\n",
       "      <td>18.960241</td>\n",
       "      <td>18.278920</td>\n",
       "      <td>19.973869</td>\n",
       "      <td>18.407411</td>\n",
       "      <td>9.799941</td>\n",
       "      <td>10.157164</td>\n",
       "      <td>7.940219</td>\n",
       "      <td>7.565341</td>\n",
       "    </tr>\n",
       "    <tr>\n",
       "      <th>Redditività di tutto il capitale investito (ROI) (%)\\n%\\nAnno - 1</th>\n",
       "      <td>-0.005223</td>\n",
       "      <td>0.346067</td>\n",
       "      <td>0.402513</td>\n",
       "      <td>0.163067</td>\n",
       "      <td>0.233202</td>\n",
       "      <td>0.064433</td>\n",
       "      <td>0.016113</td>\n",
       "      <td>0.081675</td>\n",
       "      <td>0.116836</td>\n",
       "      <td>0.208625</td>\n",
       "      <td>0.215132</td>\n",
       "      <td>0.231986</td>\n",
       "      <td>0.162338</td>\n",
       "      <td>0.199690</td>\n",
       "      <td>0.110442</td>\n",
       "    </tr>\n",
       "    <tr>\n",
       "      <th>Redditività di tutto il capitale investito (ROI) (%)\\n%\\nAnno - 2</th>\n",
       "      <td>-0.141457</td>\n",
       "      <td>0.035211</td>\n",
       "      <td>-0.048249</td>\n",
       "      <td>-0.119396</td>\n",
       "      <td>-0.223148</td>\n",
       "      <td>-0.233776</td>\n",
       "      <td>-0.225636</td>\n",
       "      <td>-0.202021</td>\n",
       "      <td>-0.141664</td>\n",
       "      <td>-0.129094</td>\n",
       "      <td>-0.175125</td>\n",
       "      <td>-0.178914</td>\n",
       "      <td>-0.177564</td>\n",
       "      <td>-0.173054</td>\n",
       "      <td>-0.197470</td>\n",
       "    </tr>\n",
       "    <tr>\n",
       "      <th>Redditività di tutto il capitale investito (ROI) (%)\\n%\\nAnno - 3</th>\n",
       "      <td>0.069393</td>\n",
       "      <td>0.076258</td>\n",
       "      <td>-0.148081</td>\n",
       "      <td>-0.068862</td>\n",
       "      <td>-0.023943</td>\n",
       "      <td>-0.072960</td>\n",
       "      <td>0.094969</td>\n",
       "      <td>0.144500</td>\n",
       "      <td>0.054754</td>\n",
       "      <td>0.076485</td>\n",
       "      <td>0.019316</td>\n",
       "      <td>0.066874</td>\n",
       "      <td>0.062750</td>\n",
       "      <td>0.118923</td>\n",
       "      <td>0.101813</td>\n",
       "    </tr>\n",
       "    <tr>\n",
       "      <th>Rotaz. cap. investito (volte)\\nAnno - 1</th>\n",
       "      <td>0.074574</td>\n",
       "      <td>0.089868</td>\n",
       "      <td>0.081830</td>\n",
       "      <td>0.083048</td>\n",
       "      <td>0.105009</td>\n",
       "      <td>0.116086</td>\n",
       "      <td>0.117946</td>\n",
       "      <td>0.108380</td>\n",
       "      <td>0.113073</td>\n",
       "      <td>0.109535</td>\n",
       "      <td>0.105587</td>\n",
       "      <td>0.102420</td>\n",
       "      <td>0.103958</td>\n",
       "      <td>0.107878</td>\n",
       "      <td>0.108080</td>\n",
       "    </tr>\n",
       "    <tr>\n",
       "      <th>Rotaz. cap. investito (volte)\\nAnno - 2</th>\n",
       "      <td>0.131762</td>\n",
       "      <td>0.196193</td>\n",
       "      <td>0.166631</td>\n",
       "      <td>0.165088</td>\n",
       "      <td>0.150603</td>\n",
       "      <td>0.162261</td>\n",
       "      <td>0.164194</td>\n",
       "      <td>0.151868</td>\n",
       "      <td>0.159011</td>\n",
       "      <td>0.155918</td>\n",
       "      <td>0.159100</td>\n",
       "      <td>0.158504</td>\n",
       "      <td>0.161706</td>\n",
       "      <td>0.158881</td>\n",
       "      <td>0.162080</td>\n",
       "    </tr>\n",
       "    <tr>\n",
       "      <th>Rotaz. cap. investito (volte)\\nAnno - 3</th>\n",
       "      <td>0.022618</td>\n",
       "      <td>0.044055</td>\n",
       "      <td>0.052468</td>\n",
       "      <td>0.046150</td>\n",
       "      <td>0.060498</td>\n",
       "      <td>0.067007</td>\n",
       "      <td>0.068510</td>\n",
       "      <td>0.074275</td>\n",
       "      <td>0.069771</td>\n",
       "      <td>0.060630</td>\n",
       "      <td>0.059905</td>\n",
       "      <td>0.060123</td>\n",
       "      <td>0.057678</td>\n",
       "      <td>0.062059</td>\n",
       "      <td>0.066045</td>\n",
       "    </tr>\n",
       "    <tr>\n",
       "      <th>Indice corrente\\nAnno - 1</th>\n",
       "      <td>0.250231</td>\n",
       "      <td>0.349226</td>\n",
       "      <td>0.392338</td>\n",
       "      <td>0.357025</td>\n",
       "      <td>0.354531</td>\n",
       "      <td>0.362998</td>\n",
       "      <td>0.345296</td>\n",
       "      <td>0.325126</td>\n",
       "      <td>0.346964</td>\n",
       "      <td>0.346466</td>\n",
       "      <td>0.382970</td>\n",
       "      <td>0.437546</td>\n",
       "      <td>0.416073</td>\n",
       "      <td>0.420745</td>\n",
       "      <td>0.413838</td>\n",
       "    </tr>\n",
       "    <tr>\n",
       "      <th>Indice corrente\\nAnno - 2</th>\n",
       "      <td>0.428691</td>\n",
       "      <td>0.351834</td>\n",
       "      <td>0.400156</td>\n",
       "      <td>0.396842</td>\n",
       "      <td>0.430051</td>\n",
       "      <td>0.415687</td>\n",
       "      <td>0.422864</td>\n",
       "      <td>0.474035</td>\n",
       "      <td>0.475194</td>\n",
       "      <td>0.510123</td>\n",
       "      <td>0.502452</td>\n",
       "      <td>0.506896</td>\n",
       "      <td>0.522955</td>\n",
       "      <td>0.589745</td>\n",
       "      <td>0.594619</td>\n",
       "    </tr>\n",
       "    <tr>\n",
       "      <th>Indice corrente\\nAnno - 3</th>\n",
       "      <td>0.381701</td>\n",
       "      <td>0.471609</td>\n",
       "      <td>0.491723</td>\n",
       "      <td>0.573877</td>\n",
       "      <td>0.626703</td>\n",
       "      <td>0.604795</td>\n",
       "      <td>0.677284</td>\n",
       "      <td>0.671094</td>\n",
       "      <td>0.655858</td>\n",
       "      <td>0.656113</td>\n",
       "      <td>0.707940</td>\n",
       "      <td>0.729135</td>\n",
       "      <td>0.729285</td>\n",
       "      <td>0.727657</td>\n",
       "      <td>0.701234</td>\n",
       "    </tr>\n",
       "  </tbody>\n",
       "</table>\n",
       "</div>"
      ],
      "text/plain": [
       "                                                        k = 1      k = 2  \\\n",
       "Redditività del capitale proprio (ROE) (%)\\n%\\n...  -3.768420  -2.041071   \n",
       "Redditività del capitale proprio (ROE) (%)\\n%\\n...   3.274483 -12.428510   \n",
       "Redditività del capitale proprio (ROE) (%)\\n%\\n...  75.474175  35.341689   \n",
       "Redditività di tutto il capitale investito (ROI...  -0.005223   0.346067   \n",
       "Redditività di tutto il capitale investito (ROI...  -0.141457   0.035211   \n",
       "Redditività di tutto il capitale investito (ROI...   0.069393   0.076258   \n",
       "Rotaz. cap. investito (volte)\\nAnno - 1              0.074574   0.089868   \n",
       "Rotaz. cap. investito (volte)\\nAnno - 2              0.131762   0.196193   \n",
       "Rotaz. cap. investito (volte)\\nAnno - 3              0.022618   0.044055   \n",
       "Indice corrente\\nAnno - 1                            0.250231   0.349226   \n",
       "Indice corrente\\nAnno - 2                            0.428691   0.351834   \n",
       "Indice corrente\\nAnno - 3                            0.381701   0.471609   \n",
       "\n",
       "                                                        k = 3      k = 4  \\\n",
       "Redditività del capitale proprio (ROE) (%)\\n%\\n...  -0.704961  -0.405943   \n",
       "Redditività del capitale proprio (ROE) (%)\\n%\\n...  -9.169200  -5.722040   \n",
       "Redditività del capitale proprio (ROE) (%)\\n%\\n...  29.078387  26.049291   \n",
       "Redditività di tutto il capitale investito (ROI...   0.402513   0.163067   \n",
       "Redditività di tutto il capitale investito (ROI...  -0.048249  -0.119396   \n",
       "Redditività di tutto il capitale investito (ROI...  -0.148081  -0.068862   \n",
       "Rotaz. cap. investito (volte)\\nAnno - 1              0.081830   0.083048   \n",
       "Rotaz. cap. investito (volte)\\nAnno - 2              0.166631   0.165088   \n",
       "Rotaz. cap. investito (volte)\\nAnno - 3              0.052468   0.046150   \n",
       "Indice corrente\\nAnno - 1                            0.392338   0.357025   \n",
       "Indice corrente\\nAnno - 2                            0.400156   0.396842   \n",
       "Indice corrente\\nAnno - 3                            0.491723   0.573877   \n",
       "\n",
       "                                                        k = 5      k = 6  \\\n",
       "Redditività del capitale proprio (ROE) (%)\\n%\\n...  -0.299537  -0.193124   \n",
       "Redditività del capitale proprio (ROE) (%)\\n%\\n...  -4.010591  -2.599115   \n",
       "Redditività del capitale proprio (ROE) (%)\\n%\\n...  25.992145  21.494050   \n",
       "Redditività di tutto il capitale investito (ROI...   0.233202   0.064433   \n",
       "Redditività di tutto il capitale investito (ROI...  -0.223148  -0.233776   \n",
       "Redditività di tutto il capitale investito (ROI...  -0.023943  -0.072960   \n",
       "Rotaz. cap. investito (volte)\\nAnno - 1              0.105009   0.116086   \n",
       "Rotaz. cap. investito (volte)\\nAnno - 2              0.150603   0.162261   \n",
       "Rotaz. cap. investito (volte)\\nAnno - 3              0.060498   0.067007   \n",
       "Indice corrente\\nAnno - 1                            0.354531   0.362998   \n",
       "Indice corrente\\nAnno - 2                            0.430051   0.415687   \n",
       "Indice corrente\\nAnno - 3                            0.626703   0.604795   \n",
       "\n",
       "                                                        k = 7      k = 8  \\\n",
       "Redditività del capitale proprio (ROE) (%)\\n%\\n...   0.110489   0.218416   \n",
       "Redditività del capitale proprio (ROE) (%)\\n%\\n...  -2.254440  -4.811427   \n",
       "Redditività del capitale proprio (ROE) (%)\\n%\\n...  20.068040  18.960241   \n",
       "Redditività di tutto il capitale investito (ROI...   0.016113   0.081675   \n",
       "Redditività di tutto il capitale investito (ROI...  -0.225636  -0.202021   \n",
       "Redditività di tutto il capitale investito (ROI...   0.094969   0.144500   \n",
       "Rotaz. cap. investito (volte)\\nAnno - 1              0.117946   0.108380   \n",
       "Rotaz. cap. investito (volte)\\nAnno - 2              0.164194   0.151868   \n",
       "Rotaz. cap. investito (volte)\\nAnno - 3              0.068510   0.074275   \n",
       "Indice corrente\\nAnno - 1                            0.345296   0.325126   \n",
       "Indice corrente\\nAnno - 2                            0.422864   0.474035   \n",
       "Indice corrente\\nAnno - 3                            0.677284   0.671094   \n",
       "\n",
       "                                                        k = 9     k = 10  \\\n",
       "Redditività del capitale proprio (ROE) (%)\\n%\\n...  -0.045780  -0.659227   \n",
       "Redditività del capitale proprio (ROE) (%)\\n%\\n...  -3.904341  -3.848937   \n",
       "Redditività del capitale proprio (ROE) (%)\\n%\\n...  18.278920  19.973869   \n",
       "Redditività di tutto il capitale investito (ROI...   0.116836   0.208625   \n",
       "Redditività di tutto il capitale investito (ROI...  -0.141664  -0.129094   \n",
       "Redditività di tutto il capitale investito (ROI...   0.054754   0.076485   \n",
       "Rotaz. cap. investito (volte)\\nAnno - 1              0.113073   0.109535   \n",
       "Rotaz. cap. investito (volte)\\nAnno - 2              0.159011   0.155918   \n",
       "Rotaz. cap. investito (volte)\\nAnno - 3              0.069771   0.060630   \n",
       "Indice corrente\\nAnno - 1                            0.346964   0.346466   \n",
       "Indice corrente\\nAnno - 2                            0.475194   0.510123   \n",
       "Indice corrente\\nAnno - 3                            0.655858   0.656113   \n",
       "\n",
       "                                                       k = 11    k = 12  \\\n",
       "Redditività del capitale proprio (ROE) (%)\\n%\\n...  -0.429135 -0.343730   \n",
       "Redditività del capitale proprio (ROE) (%)\\n%\\n...  -3.637599 -3.015935   \n",
       "Redditività del capitale proprio (ROE) (%)\\n%\\n...  18.407411  9.799941   \n",
       "Redditività di tutto il capitale investito (ROI...   0.215132  0.231986   \n",
       "Redditività di tutto il capitale investito (ROI...  -0.175125 -0.178914   \n",
       "Redditività di tutto il capitale investito (ROI...   0.019316  0.066874   \n",
       "Rotaz. cap. investito (volte)\\nAnno - 1              0.105587  0.102420   \n",
       "Rotaz. cap. investito (volte)\\nAnno - 2              0.159100  0.158504   \n",
       "Rotaz. cap. investito (volte)\\nAnno - 3              0.059905  0.060123   \n",
       "Indice corrente\\nAnno - 1                            0.382970  0.437546   \n",
       "Indice corrente\\nAnno - 2                            0.502452  0.506896   \n",
       "Indice corrente\\nAnno - 3                            0.707940  0.729135   \n",
       "\n",
       "                                                       k = 13    k = 14  \\\n",
       "Redditività del capitale proprio (ROE) (%)\\n%\\n...  -0.176455 -0.279777   \n",
       "Redditività del capitale proprio (ROE) (%)\\n%\\n...  -2.545560 -1.575191   \n",
       "Redditività del capitale proprio (ROE) (%)\\n%\\n...  10.157164  7.940219   \n",
       "Redditività di tutto il capitale investito (ROI...   0.162338  0.199690   \n",
       "Redditività di tutto il capitale investito (ROI...  -0.177564 -0.173054   \n",
       "Redditività di tutto il capitale investito (ROI...   0.062750  0.118923   \n",
       "Rotaz. cap. investito (volte)\\nAnno - 1              0.103958  0.107878   \n",
       "Rotaz. cap. investito (volte)\\nAnno - 2              0.161706  0.158881   \n",
       "Rotaz. cap. investito (volte)\\nAnno - 3              0.057678  0.062059   \n",
       "Indice corrente\\nAnno - 1                            0.416073  0.420745   \n",
       "Indice corrente\\nAnno - 2                            0.522955  0.589745   \n",
       "Indice corrente\\nAnno - 3                            0.729285  0.727657   \n",
       "\n",
       "                                                      k = 15  \n",
       "Redditività del capitale proprio (ROE) (%)\\n%\\n... -0.361270  \n",
       "Redditività del capitale proprio (ROE) (%)\\n%\\n... -1.377303  \n",
       "Redditività del capitale proprio (ROE) (%)\\n%\\n...  7.565341  \n",
       "Redditività di tutto il capitale investito (ROI...  0.110442  \n",
       "Redditività di tutto il capitale investito (ROI... -0.197470  \n",
       "Redditività di tutto il capitale investito (ROI...  0.101813  \n",
       "Rotaz. cap. investito (volte)\\nAnno - 1             0.108080  \n",
       "Rotaz. cap. investito (volte)\\nAnno - 2             0.162080  \n",
       "Rotaz. cap. investito (volte)\\nAnno - 3             0.066045  \n",
       "Indice corrente\\nAnno - 1                           0.413838  \n",
       "Indice corrente\\nAnno - 2                           0.594619  \n",
       "Indice corrente\\nAnno - 3                           0.701234  "
      ]
     },
     "execution_count": 155,
     "metadata": {},
     "output_type": "execute_result"
    }
   ],
   "source": [
    "df_evaluation.iloc[-15:-3]"
   ]
  },
  {
   "cell_type": "code",
   "execution_count": 156,
   "metadata": {},
   "outputs": [],
   "source": [
    "df_evaluation.to_csv(\"results.csv\")"
   ]
  },
  {
   "cell_type": "code",
   "execution_count": 157,
   "metadata": {},
   "outputs": [
    {
     "data": {
      "application/vnd.plotly.v1+json": {
       "config": {
        "plotlyServerURL": "https://plot.ly"
       },
       "data": [
        {
         "alignmentgroup": "True",
         "hovertemplate": "variable=Redditività del capitale proprio (ROE) (%)\n%\nAnno - 1<br>index=%{x}<br>value=%{y}<extra></extra>",
         "legendgroup": "Redditività del capitale proprio (ROE) (%)\n%\nAnno - 1",
         "marker": {
          "color": "#636efa",
          "pattern": {
           "shape": ""
          }
         },
         "name": "Redditività del capitale proprio (ROE) (%)\n%\nAnno - 1",
         "offsetgroup": "Redditività del capitale proprio (ROE) (%)\n%\nAnno - 1",
         "orientation": "v",
         "showlegend": true,
         "textposition": "auto",
         "type": "bar",
         "x": [
          "k = 1",
          "k = 2",
          "k = 3",
          "k = 4",
          "k = 5",
          "k = 6",
          "k = 7",
          "k = 8",
          "k = 9",
          "k = 10",
          "k = 11",
          "k = 12",
          "k = 13",
          "k = 14",
          "k = 15"
         ],
         "xaxis": "x",
         "y": [
          -3.7684204461053388,
          -2.04107055732814,
          -0.7049605370389905,
          -0.4059427313348475,
          -0.2995366285762543,
          -0.1931238863957005,
          0.1104885148979735,
          0.21841588245994434,
          -0.045780197743567994,
          -0.6592265100769786,
          -0.4291350201290285,
          -0.34373003598995394,
          -0.17645533701568258,
          -0.279777335829302,
          -0.36127027916767807
         ],
         "yaxis": "y"
        },
        {
         "alignmentgroup": "True",
         "hovertemplate": "variable=Redditività del capitale proprio (ROE) (%)\n%\nAnno - 2<br>index=%{x}<br>value=%{y}<extra></extra>",
         "legendgroup": "Redditività del capitale proprio (ROE) (%)\n%\nAnno - 2",
         "marker": {
          "color": "#EF553B",
          "pattern": {
           "shape": ""
          }
         },
         "name": "Redditività del capitale proprio (ROE) (%)\n%\nAnno - 2",
         "offsetgroup": "Redditività del capitale proprio (ROE) (%)\n%\nAnno - 2",
         "orientation": "v",
         "showlegend": true,
         "textposition": "auto",
         "type": "bar",
         "x": [
          "k = 1",
          "k = 2",
          "k = 3",
          "k = 4",
          "k = 5",
          "k = 6",
          "k = 7",
          "k = 8",
          "k = 9",
          "k = 10",
          "k = 11",
          "k = 12",
          "k = 13",
          "k = 14",
          "k = 15"
         ],
         "xaxis": "x",
         "y": [
          3.2744826115710852,
          -12.428509853046647,
          -9.169199833589975,
          -5.722040126813851,
          -4.0105912544564495,
          -2.599114581417116,
          -2.2544404905891695,
          -4.811426838241339,
          -3.9043409389104164,
          -3.848937349625321,
          -3.6375988097597043,
          -3.0159345861091964,
          -2.5455603738381516,
          -1.5751906534900284,
          -1.3773030034252876
         ],
         "yaxis": "y"
        },
        {
         "alignmentgroup": "True",
         "hovertemplate": "variable=Redditività del capitale proprio (ROE) (%)\n%\nAnno - 3<br>index=%{x}<br>value=%{y}<extra></extra>",
         "legendgroup": "Redditività del capitale proprio (ROE) (%)\n%\nAnno - 3",
         "marker": {
          "color": "#00cc96",
          "pattern": {
           "shape": ""
          }
         },
         "name": "Redditività del capitale proprio (ROE) (%)\n%\nAnno - 3",
         "offsetgroup": "Redditività del capitale proprio (ROE) (%)\n%\nAnno - 3",
         "orientation": "v",
         "showlegend": true,
         "textposition": "auto",
         "type": "bar",
         "x": [
          "k = 1",
          "k = 2",
          "k = 3",
          "k = 4",
          "k = 5",
          "k = 6",
          "k = 7",
          "k = 8",
          "k = 9",
          "k = 10",
          "k = 11",
          "k = 12",
          "k = 13",
          "k = 14",
          "k = 15"
         ],
         "xaxis": "x",
         "y": [
          75.47417494616091,
          35.341689355833225,
          29.07838699797534,
          26.049290541232114,
          25.992144745051682,
          21.494049986360462,
          20.068040218490548,
          18.960240886394757,
          18.278919525612125,
          19.973868643307352,
          18.407411259497863,
          9.79994131870084,
          10.157163892914847,
          7.940218941953235,
          7.565340634136454
         ],
         "yaxis": "y"
        },
        {
         "alignmentgroup": "True",
         "hovertemplate": "variable=Redditività di tutto il capitale investito (ROI) (%)\n%\nAnno - 1<br>index=%{x}<br>value=%{y}<extra></extra>",
         "legendgroup": "Redditività di tutto il capitale investito (ROI) (%)\n%\nAnno - 1",
         "marker": {
          "color": "#ab63fa",
          "pattern": {
           "shape": ""
          }
         },
         "name": "Redditività di tutto il capitale investito (ROI) (%)\n%\nAnno - 1",
         "offsetgroup": "Redditività di tutto il capitale investito (ROI) (%)\n%\nAnno - 1",
         "orientation": "v",
         "showlegend": true,
         "textposition": "auto",
         "type": "bar",
         "x": [
          "k = 1",
          "k = 2",
          "k = 3",
          "k = 4",
          "k = 5",
          "k = 6",
          "k = 7",
          "k = 8",
          "k = 9",
          "k = 10",
          "k = 11",
          "k = 12",
          "k = 13",
          "k = 14",
          "k = 15"
         ],
         "xaxis": "x",
         "y": [
          -0.00522276251376133,
          0.34606739967690275,
          0.40251278960413067,
          0.16306654257282496,
          0.23320220721210907,
          0.06443337183806629,
          0.016112821346412773,
          0.08167485779690427,
          0.11683622527690814,
          0.20862517771281885,
          0.2151323648421438,
          0.23198567544369597,
          0.16233811381800542,
          0.19969032900126868,
          0.11044183403950628
         ],
         "yaxis": "y"
        },
        {
         "alignmentgroup": "True",
         "hovertemplate": "variable=Redditività di tutto il capitale investito (ROI) (%)\n%\nAnno - 2<br>index=%{x}<br>value=%{y}<extra></extra>",
         "legendgroup": "Redditività di tutto il capitale investito (ROI) (%)\n%\nAnno - 2",
         "marker": {
          "color": "#FFA15A",
          "pattern": {
           "shape": ""
          }
         },
         "name": "Redditività di tutto il capitale investito (ROI) (%)\n%\nAnno - 2",
         "offsetgroup": "Redditività di tutto il capitale investito (ROI) (%)\n%\nAnno - 2",
         "orientation": "v",
         "showlegend": true,
         "textposition": "auto",
         "type": "bar",
         "x": [
          "k = 1",
          "k = 2",
          "k = 3",
          "k = 4",
          "k = 5",
          "k = 6",
          "k = 7",
          "k = 8",
          "k = 9",
          "k = 10",
          "k = 11",
          "k = 12",
          "k = 13",
          "k = 14",
          "k = 15"
         ],
         "xaxis": "x",
         "y": [
          -0.1414565044512493,
          0.0352110886150884,
          -0.048249423596680045,
          -0.11939606023222374,
          -0.2231482424668483,
          -0.23377566748164888,
          -0.22563564802278493,
          -0.20202143557886817,
          -0.14166440798112126,
          -0.1290940937977205,
          -0.17512534620938416,
          -0.17891371835264688,
          -0.1775637162243673,
          -0.1730544415001347,
          -0.19747024254056808
         ],
         "yaxis": "y"
        },
        {
         "alignmentgroup": "True",
         "hovertemplate": "variable=Redditività di tutto il capitale investito (ROI) (%)\n%\nAnno - 3<br>index=%{x}<br>value=%{y}<extra></extra>",
         "legendgroup": "Redditività di tutto il capitale investito (ROI) (%)\n%\nAnno - 3",
         "marker": {
          "color": "#19d3f3",
          "pattern": {
           "shape": ""
          }
         },
         "name": "Redditività di tutto il capitale investito (ROI) (%)\n%\nAnno - 3",
         "offsetgroup": "Redditività di tutto il capitale investito (ROI) (%)\n%\nAnno - 3",
         "orientation": "v",
         "showlegend": true,
         "textposition": "auto",
         "type": "bar",
         "x": [
          "k = 1",
          "k = 2",
          "k = 3",
          "k = 4",
          "k = 5",
          "k = 6",
          "k = 7",
          "k = 8",
          "k = 9",
          "k = 10",
          "k = 11",
          "k = 12",
          "k = 13",
          "k = 14",
          "k = 15"
         ],
         "xaxis": "x",
         "y": [
          0.0693933921884777,
          0.07625760332938172,
          -0.1480813712115378,
          -0.06886151193228737,
          -0.023943061089794063,
          -0.07296049979858803,
          0.09496923536830225,
          0.14449954425929576,
          0.05475407675054594,
          0.07648484503000015,
          0.019316298212397085,
          0.06687354520133035,
          0.06274960201681859,
          0.11892253654459611,
          0.1018126293345135
         ],
         "yaxis": "y"
        },
        {
         "alignmentgroup": "True",
         "hovertemplate": "variable=Rotaz. cap. investito (volte)\nAnno - 1<br>index=%{x}<br>value=%{y}<extra></extra>",
         "legendgroup": "Rotaz. cap. investito (volte)\nAnno - 1",
         "marker": {
          "color": "#FF6692",
          "pattern": {
           "shape": ""
          }
         },
         "name": "Rotaz. cap. investito (volte)\nAnno - 1",
         "offsetgroup": "Rotaz. cap. investito (volte)\nAnno - 1",
         "orientation": "v",
         "showlegend": true,
         "textposition": "auto",
         "type": "bar",
         "x": [
          "k = 1",
          "k = 2",
          "k = 3",
          "k = 4",
          "k = 5",
          "k = 6",
          "k = 7",
          "k = 8",
          "k = 9",
          "k = 10",
          "k = 11",
          "k = 12",
          "k = 13",
          "k = 14",
          "k = 15"
         ],
         "xaxis": "x",
         "y": [
          0.07457414471909497,
          0.08986795704889235,
          0.0818299388305198,
          0.08304828172188633,
          0.10500944112549745,
          0.11608640589612317,
          0.11794601364179086,
          0.10837957132956136,
          0.1130731200690325,
          0.1095347639573539,
          0.1055867190176805,
          0.10242019199403316,
          0.10395775539781962,
          0.10787813982694808,
          0.10808037527763249
         ],
         "yaxis": "y"
        },
        {
         "alignmentgroup": "True",
         "hovertemplate": "variable=Rotaz. cap. investito (volte)\nAnno - 2<br>index=%{x}<br>value=%{y}<extra></extra>",
         "legendgroup": "Rotaz. cap. investito (volte)\nAnno - 2",
         "marker": {
          "color": "#B6E880",
          "pattern": {
           "shape": ""
          }
         },
         "name": "Rotaz. cap. investito (volte)\nAnno - 2",
         "offsetgroup": "Rotaz. cap. investito (volte)\nAnno - 2",
         "orientation": "v",
         "showlegend": true,
         "textposition": "auto",
         "type": "bar",
         "x": [
          "k = 1",
          "k = 2",
          "k = 3",
          "k = 4",
          "k = 5",
          "k = 6",
          "k = 7",
          "k = 8",
          "k = 9",
          "k = 10",
          "k = 11",
          "k = 12",
          "k = 13",
          "k = 14",
          "k = 15"
         ],
         "xaxis": "x",
         "y": [
          0.13176236865174287,
          0.19619335676645913,
          0.16663076471553112,
          0.1650883988572586,
          0.1506034344400852,
          0.16226079719187322,
          0.1641940115222225,
          0.15186799186311903,
          0.15901085110714197,
          0.15591768511355367,
          0.15909991005053853,
          0.1585041594601538,
          0.16170623842900844,
          0.15888148877459576,
          0.1620798324541166
         ],
         "yaxis": "y"
        },
        {
         "alignmentgroup": "True",
         "hovertemplate": "variable=Rotaz. cap. investito (volte)\nAnno - 3<br>index=%{x}<br>value=%{y}<extra></extra>",
         "legendgroup": "Rotaz. cap. investito (volte)\nAnno - 3",
         "marker": {
          "color": "#FF97FF",
          "pattern": {
           "shape": ""
          }
         },
         "name": "Rotaz. cap. investito (volte)\nAnno - 3",
         "offsetgroup": "Rotaz. cap. investito (volte)\nAnno - 3",
         "orientation": "v",
         "showlegend": true,
         "textposition": "auto",
         "type": "bar",
         "x": [
          "k = 1",
          "k = 2",
          "k = 3",
          "k = 4",
          "k = 5",
          "k = 6",
          "k = 7",
          "k = 8",
          "k = 9",
          "k = 10",
          "k = 11",
          "k = 12",
          "k = 13",
          "k = 14",
          "k = 15"
         ],
         "xaxis": "x",
         "y": [
          0.02261809249912463,
          0.044055396423406945,
          0.052467631106180725,
          0.04614998030977094,
          0.060498018580284814,
          0.06700721166526508,
          0.06851011947661455,
          0.07427533573556769,
          0.06977065412811573,
          0.06062970539248252,
          0.05990464279281174,
          0.060123479356404365,
          0.05767814821325534,
          0.06205873519703535,
          0.06604540355326836
         ],
         "yaxis": "y"
        },
        {
         "alignmentgroup": "True",
         "hovertemplate": "variable=Indice corrente\nAnno - 1<br>index=%{x}<br>value=%{y}<extra></extra>",
         "legendgroup": "Indice corrente\nAnno - 1",
         "marker": {
          "color": "#FECB52",
          "pattern": {
           "shape": ""
          }
         },
         "name": "Indice corrente\nAnno - 1",
         "offsetgroup": "Indice corrente\nAnno - 1",
         "orientation": "v",
         "showlegend": true,
         "textposition": "auto",
         "type": "bar",
         "x": [
          "k = 1",
          "k = 2",
          "k = 3",
          "k = 4",
          "k = 5",
          "k = 6",
          "k = 7",
          "k = 8",
          "k = 9",
          "k = 10",
          "k = 11",
          "k = 12",
          "k = 13",
          "k = 14",
          "k = 15"
         ],
         "xaxis": "x",
         "y": [
          0.25023111965299843,
          0.3492264402172427,
          0.39233779473242963,
          0.3570253095624072,
          0.3545309043044945,
          0.3629983722846952,
          0.3452964784435823,
          0.3251262151349825,
          0.346964250266898,
          0.3464655634297209,
          0.38296951312287936,
          0.43754575364222886,
          0.41607261415247304,
          0.42074525085712805,
          0.41383793234527694
         ],
         "yaxis": "y"
        },
        {
         "alignmentgroup": "True",
         "hovertemplate": "variable=Indice corrente\nAnno - 2<br>index=%{x}<br>value=%{y}<extra></extra>",
         "legendgroup": "Indice corrente\nAnno - 2",
         "marker": {
          "color": "#636efa",
          "pattern": {
           "shape": ""
          }
         },
         "name": "Indice corrente\nAnno - 2",
         "offsetgroup": "Indice corrente\nAnno - 2",
         "orientation": "v",
         "showlegend": true,
         "textposition": "auto",
         "type": "bar",
         "x": [
          "k = 1",
          "k = 2",
          "k = 3",
          "k = 4",
          "k = 5",
          "k = 6",
          "k = 7",
          "k = 8",
          "k = 9",
          "k = 10",
          "k = 11",
          "k = 12",
          "k = 13",
          "k = 14",
          "k = 15"
         ],
         "xaxis": "x",
         "y": [
          0.42869099586668585,
          0.351833826212419,
          0.4001560392319133,
          0.3968418522555699,
          0.4300509704901521,
          0.4156868807406014,
          0.42286414926412846,
          0.474034663517867,
          0.4751941465528804,
          0.5101233649359179,
          0.5024519422309629,
          0.5068957019632783,
          0.5229550598868663,
          0.5897447544481408,
          0.594619104374326
         ],
         "yaxis": "y"
        },
        {
         "alignmentgroup": "True",
         "hovertemplate": "variable=Indice corrente\nAnno - 3<br>index=%{x}<br>value=%{y}<extra></extra>",
         "legendgroup": "Indice corrente\nAnno - 3",
         "marker": {
          "color": "#EF553B",
          "pattern": {
           "shape": ""
          }
         },
         "name": "Indice corrente\nAnno - 3",
         "offsetgroup": "Indice corrente\nAnno - 3",
         "orientation": "v",
         "showlegend": true,
         "textposition": "auto",
         "type": "bar",
         "x": [
          "k = 1",
          "k = 2",
          "k = 3",
          "k = 4",
          "k = 5",
          "k = 6",
          "k = 7",
          "k = 8",
          "k = 9",
          "k = 10",
          "k = 11",
          "k = 12",
          "k = 13",
          "k = 14",
          "k = 15"
         ],
         "xaxis": "x",
         "y": [
          0.3817013539046355,
          0.471609009691481,
          0.49172251275111245,
          0.573876776301933,
          0.6267028459512562,
          0.6047953070149471,
          0.6772844013445071,
          0.6710939062238238,
          0.6558578178977883,
          0.6561131134813719,
          0.7079398620389441,
          0.7291353665537238,
          0.7292852767993939,
          0.7276568968651289,
          0.7012339230397291
         ],
         "yaxis": "y"
        }
       ],
       "layout": {
        "barmode": "group",
        "legend": {
         "title": {
          "text": "variable"
         },
         "tracegroupgap": 0
        },
        "template": {
         "data": {
          "bar": [
           {
            "error_x": {
             "color": "#2a3f5f"
            },
            "error_y": {
             "color": "#2a3f5f"
            },
            "marker": {
             "line": {
              "color": "#E5ECF6",
              "width": 0.5
             },
             "pattern": {
              "fillmode": "overlay",
              "size": 10,
              "solidity": 0.2
             }
            },
            "type": "bar"
           }
          ],
          "barpolar": [
           {
            "marker": {
             "line": {
              "color": "#E5ECF6",
              "width": 0.5
             },
             "pattern": {
              "fillmode": "overlay",
              "size": 10,
              "solidity": 0.2
             }
            },
            "type": "barpolar"
           }
          ],
          "carpet": [
           {
            "aaxis": {
             "endlinecolor": "#2a3f5f",
             "gridcolor": "white",
             "linecolor": "white",
             "minorgridcolor": "white",
             "startlinecolor": "#2a3f5f"
            },
            "baxis": {
             "endlinecolor": "#2a3f5f",
             "gridcolor": "white",
             "linecolor": "white",
             "minorgridcolor": "white",
             "startlinecolor": "#2a3f5f"
            },
            "type": "carpet"
           }
          ],
          "choropleth": [
           {
            "colorbar": {
             "outlinewidth": 0,
             "ticks": ""
            },
            "type": "choropleth"
           }
          ],
          "contour": [
           {
            "colorbar": {
             "outlinewidth": 0,
             "ticks": ""
            },
            "colorscale": [
             [
              0,
              "#0d0887"
             ],
             [
              0.1111111111111111,
              "#46039f"
             ],
             [
              0.2222222222222222,
              "#7201a8"
             ],
             [
              0.3333333333333333,
              "#9c179e"
             ],
             [
              0.4444444444444444,
              "#bd3786"
             ],
             [
              0.5555555555555556,
              "#d8576b"
             ],
             [
              0.6666666666666666,
              "#ed7953"
             ],
             [
              0.7777777777777778,
              "#fb9f3a"
             ],
             [
              0.8888888888888888,
              "#fdca26"
             ],
             [
              1,
              "#f0f921"
             ]
            ],
            "type": "contour"
           }
          ],
          "contourcarpet": [
           {
            "colorbar": {
             "outlinewidth": 0,
             "ticks": ""
            },
            "type": "contourcarpet"
           }
          ],
          "heatmap": [
           {
            "colorbar": {
             "outlinewidth": 0,
             "ticks": ""
            },
            "colorscale": [
             [
              0,
              "#0d0887"
             ],
             [
              0.1111111111111111,
              "#46039f"
             ],
             [
              0.2222222222222222,
              "#7201a8"
             ],
             [
              0.3333333333333333,
              "#9c179e"
             ],
             [
              0.4444444444444444,
              "#bd3786"
             ],
             [
              0.5555555555555556,
              "#d8576b"
             ],
             [
              0.6666666666666666,
              "#ed7953"
             ],
             [
              0.7777777777777778,
              "#fb9f3a"
             ],
             [
              0.8888888888888888,
              "#fdca26"
             ],
             [
              1,
              "#f0f921"
             ]
            ],
            "type": "heatmap"
           }
          ],
          "heatmapgl": [
           {
            "colorbar": {
             "outlinewidth": 0,
             "ticks": ""
            },
            "colorscale": [
             [
              0,
              "#0d0887"
             ],
             [
              0.1111111111111111,
              "#46039f"
             ],
             [
              0.2222222222222222,
              "#7201a8"
             ],
             [
              0.3333333333333333,
              "#9c179e"
             ],
             [
              0.4444444444444444,
              "#bd3786"
             ],
             [
              0.5555555555555556,
              "#d8576b"
             ],
             [
              0.6666666666666666,
              "#ed7953"
             ],
             [
              0.7777777777777778,
              "#fb9f3a"
             ],
             [
              0.8888888888888888,
              "#fdca26"
             ],
             [
              1,
              "#f0f921"
             ]
            ],
            "type": "heatmapgl"
           }
          ],
          "histogram": [
           {
            "marker": {
             "pattern": {
              "fillmode": "overlay",
              "size": 10,
              "solidity": 0.2
             }
            },
            "type": "histogram"
           }
          ],
          "histogram2d": [
           {
            "colorbar": {
             "outlinewidth": 0,
             "ticks": ""
            },
            "colorscale": [
             [
              0,
              "#0d0887"
             ],
             [
              0.1111111111111111,
              "#46039f"
             ],
             [
              0.2222222222222222,
              "#7201a8"
             ],
             [
              0.3333333333333333,
              "#9c179e"
             ],
             [
              0.4444444444444444,
              "#bd3786"
             ],
             [
              0.5555555555555556,
              "#d8576b"
             ],
             [
              0.6666666666666666,
              "#ed7953"
             ],
             [
              0.7777777777777778,
              "#fb9f3a"
             ],
             [
              0.8888888888888888,
              "#fdca26"
             ],
             [
              1,
              "#f0f921"
             ]
            ],
            "type": "histogram2d"
           }
          ],
          "histogram2dcontour": [
           {
            "colorbar": {
             "outlinewidth": 0,
             "ticks": ""
            },
            "colorscale": [
             [
              0,
              "#0d0887"
             ],
             [
              0.1111111111111111,
              "#46039f"
             ],
             [
              0.2222222222222222,
              "#7201a8"
             ],
             [
              0.3333333333333333,
              "#9c179e"
             ],
             [
              0.4444444444444444,
              "#bd3786"
             ],
             [
              0.5555555555555556,
              "#d8576b"
             ],
             [
              0.6666666666666666,
              "#ed7953"
             ],
             [
              0.7777777777777778,
              "#fb9f3a"
             ],
             [
              0.8888888888888888,
              "#fdca26"
             ],
             [
              1,
              "#f0f921"
             ]
            ],
            "type": "histogram2dcontour"
           }
          ],
          "mesh3d": [
           {
            "colorbar": {
             "outlinewidth": 0,
             "ticks": ""
            },
            "type": "mesh3d"
           }
          ],
          "parcoords": [
           {
            "line": {
             "colorbar": {
              "outlinewidth": 0,
              "ticks": ""
             }
            },
            "type": "parcoords"
           }
          ],
          "pie": [
           {
            "automargin": true,
            "type": "pie"
           }
          ],
          "scatter": [
           {
            "marker": {
             "colorbar": {
              "outlinewidth": 0,
              "ticks": ""
             }
            },
            "type": "scatter"
           }
          ],
          "scatter3d": [
           {
            "line": {
             "colorbar": {
              "outlinewidth": 0,
              "ticks": ""
             }
            },
            "marker": {
             "colorbar": {
              "outlinewidth": 0,
              "ticks": ""
             }
            },
            "type": "scatter3d"
           }
          ],
          "scattercarpet": [
           {
            "marker": {
             "colorbar": {
              "outlinewidth": 0,
              "ticks": ""
             }
            },
            "type": "scattercarpet"
           }
          ],
          "scattergeo": [
           {
            "marker": {
             "colorbar": {
              "outlinewidth": 0,
              "ticks": ""
             }
            },
            "type": "scattergeo"
           }
          ],
          "scattergl": [
           {
            "marker": {
             "colorbar": {
              "outlinewidth": 0,
              "ticks": ""
             }
            },
            "type": "scattergl"
           }
          ],
          "scattermapbox": [
           {
            "marker": {
             "colorbar": {
              "outlinewidth": 0,
              "ticks": ""
             }
            },
            "type": "scattermapbox"
           }
          ],
          "scatterpolar": [
           {
            "marker": {
             "colorbar": {
              "outlinewidth": 0,
              "ticks": ""
             }
            },
            "type": "scatterpolar"
           }
          ],
          "scatterpolargl": [
           {
            "marker": {
             "colorbar": {
              "outlinewidth": 0,
              "ticks": ""
             }
            },
            "type": "scatterpolargl"
           }
          ],
          "scatterternary": [
           {
            "marker": {
             "colorbar": {
              "outlinewidth": 0,
              "ticks": ""
             }
            },
            "type": "scatterternary"
           }
          ],
          "surface": [
           {
            "colorbar": {
             "outlinewidth": 0,
             "ticks": ""
            },
            "colorscale": [
             [
              0,
              "#0d0887"
             ],
             [
              0.1111111111111111,
              "#46039f"
             ],
             [
              0.2222222222222222,
              "#7201a8"
             ],
             [
              0.3333333333333333,
              "#9c179e"
             ],
             [
              0.4444444444444444,
              "#bd3786"
             ],
             [
              0.5555555555555556,
              "#d8576b"
             ],
             [
              0.6666666666666666,
              "#ed7953"
             ],
             [
              0.7777777777777778,
              "#fb9f3a"
             ],
             [
              0.8888888888888888,
              "#fdca26"
             ],
             [
              1,
              "#f0f921"
             ]
            ],
            "type": "surface"
           }
          ],
          "table": [
           {
            "cells": {
             "fill": {
              "color": "#EBF0F8"
             },
             "line": {
              "color": "white"
             }
            },
            "header": {
             "fill": {
              "color": "#C8D4E3"
             },
             "line": {
              "color": "white"
             }
            },
            "type": "table"
           }
          ]
         },
         "layout": {
          "annotationdefaults": {
           "arrowcolor": "#2a3f5f",
           "arrowhead": 0,
           "arrowwidth": 1
          },
          "autotypenumbers": "strict",
          "coloraxis": {
           "colorbar": {
            "outlinewidth": 0,
            "ticks": ""
           }
          },
          "colorscale": {
           "diverging": [
            [
             0,
             "#8e0152"
            ],
            [
             0.1,
             "#c51b7d"
            ],
            [
             0.2,
             "#de77ae"
            ],
            [
             0.3,
             "#f1b6da"
            ],
            [
             0.4,
             "#fde0ef"
            ],
            [
             0.5,
             "#f7f7f7"
            ],
            [
             0.6,
             "#e6f5d0"
            ],
            [
             0.7,
             "#b8e186"
            ],
            [
             0.8,
             "#7fbc41"
            ],
            [
             0.9,
             "#4d9221"
            ],
            [
             1,
             "#276419"
            ]
           ],
           "sequential": [
            [
             0,
             "#0d0887"
            ],
            [
             0.1111111111111111,
             "#46039f"
            ],
            [
             0.2222222222222222,
             "#7201a8"
            ],
            [
             0.3333333333333333,
             "#9c179e"
            ],
            [
             0.4444444444444444,
             "#bd3786"
            ],
            [
             0.5555555555555556,
             "#d8576b"
            ],
            [
             0.6666666666666666,
             "#ed7953"
            ],
            [
             0.7777777777777778,
             "#fb9f3a"
            ],
            [
             0.8888888888888888,
             "#fdca26"
            ],
            [
             1,
             "#f0f921"
            ]
           ],
           "sequentialminus": [
            [
             0,
             "#0d0887"
            ],
            [
             0.1111111111111111,
             "#46039f"
            ],
            [
             0.2222222222222222,
             "#7201a8"
            ],
            [
             0.3333333333333333,
             "#9c179e"
            ],
            [
             0.4444444444444444,
             "#bd3786"
            ],
            [
             0.5555555555555556,
             "#d8576b"
            ],
            [
             0.6666666666666666,
             "#ed7953"
            ],
            [
             0.7777777777777778,
             "#fb9f3a"
            ],
            [
             0.8888888888888888,
             "#fdca26"
            ],
            [
             1,
             "#f0f921"
            ]
           ]
          },
          "colorway": [
           "#636efa",
           "#EF553B",
           "#00cc96",
           "#ab63fa",
           "#FFA15A",
           "#19d3f3",
           "#FF6692",
           "#B6E880",
           "#FF97FF",
           "#FECB52"
          ],
          "font": {
           "color": "#2a3f5f"
          },
          "geo": {
           "bgcolor": "white",
           "lakecolor": "white",
           "landcolor": "#E5ECF6",
           "showlakes": true,
           "showland": true,
           "subunitcolor": "white"
          },
          "hoverlabel": {
           "align": "left"
          },
          "hovermode": "closest",
          "mapbox": {
           "style": "light"
          },
          "paper_bgcolor": "white",
          "plot_bgcolor": "#E5ECF6",
          "polar": {
           "angularaxis": {
            "gridcolor": "white",
            "linecolor": "white",
            "ticks": ""
           },
           "bgcolor": "#E5ECF6",
           "radialaxis": {
            "gridcolor": "white",
            "linecolor": "white",
            "ticks": ""
           }
          },
          "scene": {
           "xaxis": {
            "backgroundcolor": "#E5ECF6",
            "gridcolor": "white",
            "gridwidth": 2,
            "linecolor": "white",
            "showbackground": true,
            "ticks": "",
            "zerolinecolor": "white"
           },
           "yaxis": {
            "backgroundcolor": "#E5ECF6",
            "gridcolor": "white",
            "gridwidth": 2,
            "linecolor": "white",
            "showbackground": true,
            "ticks": "",
            "zerolinecolor": "white"
           },
           "zaxis": {
            "backgroundcolor": "#E5ECF6",
            "gridcolor": "white",
            "gridwidth": 2,
            "linecolor": "white",
            "showbackground": true,
            "ticks": "",
            "zerolinecolor": "white"
           }
          },
          "shapedefaults": {
           "line": {
            "color": "#2a3f5f"
           }
          },
          "ternary": {
           "aaxis": {
            "gridcolor": "white",
            "linecolor": "white",
            "ticks": ""
           },
           "baxis": {
            "gridcolor": "white",
            "linecolor": "white",
            "ticks": ""
           },
           "bgcolor": "#E5ECF6",
           "caxis": {
            "gridcolor": "white",
            "linecolor": "white",
            "ticks": ""
           }
          },
          "title": {
           "x": 0.05
          },
          "xaxis": {
           "automargin": true,
           "gridcolor": "white",
           "linecolor": "white",
           "ticks": "",
           "title": {
            "standoff": 15
           },
           "zerolinecolor": "white",
           "zerolinewidth": 2
          },
          "yaxis": {
           "automargin": true,
           "gridcolor": "white",
           "linecolor": "white",
           "ticks": "",
           "title": {
            "standoff": 15
           },
           "zerolinecolor": "white",
           "zerolinewidth": 2
          }
         }
        },
        "title": {
         "text": "Percentage mean errors"
        },
        "xaxis": {
         "anchor": "y",
         "domain": [
          0,
          1
         ],
         "title": {
          "text": "index"
         }
        },
        "yaxis": {
         "anchor": "x",
         "domain": [
          0,
          1
         ],
         "title": {
          "text": "value"
         }
        }
       }
      }
     },
     "metadata": {},
     "output_type": "display_data"
    }
   ],
   "source": [
    "fig = px.bar(df_evaluation.iloc[-15:-3].transpose(), barmode=\"group\",title=\"Percentage mean errors\")\n",
    "fig.show()\n",
    "fig.write_html(\"Percentage_mean_errors.html\")"
   ]
  },
  {
   "cell_type": "code",
   "execution_count": 158,
   "metadata": {},
   "outputs": [
    {
     "data": {
      "text/html": [
       "<div>\n",
       "<style scoped>\n",
       "    .dataframe tbody tr th:only-of-type {\n",
       "        vertical-align: middle;\n",
       "    }\n",
       "\n",
       "    .dataframe tbody tr th {\n",
       "        vertical-align: top;\n",
       "    }\n",
       "\n",
       "    .dataframe thead th {\n",
       "        text-align: right;\n",
       "    }\n",
       "</style>\n",
       "<table border=\"1\" class=\"dataframe\">\n",
       "  <thead>\n",
       "    <tr style=\"text-align: right;\">\n",
       "      <th></th>\n",
       "      <th>k = 1</th>\n",
       "      <th>k = 2</th>\n",
       "      <th>k = 3</th>\n",
       "      <th>k = 4</th>\n",
       "      <th>k = 5</th>\n",
       "      <th>k = 6</th>\n",
       "      <th>k = 7</th>\n",
       "      <th>k = 8</th>\n",
       "      <th>k = 9</th>\n",
       "      <th>k = 10</th>\n",
       "      <th>k = 11</th>\n",
       "      <th>k = 12</th>\n",
       "      <th>k = 13</th>\n",
       "      <th>k = 14</th>\n",
       "      <th>k = 15</th>\n",
       "    </tr>\n",
       "  </thead>\n",
       "  <tbody>\n",
       "    <tr>\n",
       "      <th>MSE</th>\n",
       "      <td>160378.416916</td>\n",
       "      <td>155026.945165</td>\n",
       "      <td>163658.790773</td>\n",
       "      <td>245606.091246</td>\n",
       "      <td>324940.739416</td>\n",
       "      <td>491435.656825</td>\n",
       "      <td>692037.985366</td>\n",
       "      <td>596214.926151</td>\n",
       "      <td>548814.666080</td>\n",
       "      <td>498597.318855</td>\n",
       "      <td>550270.546815</td>\n",
       "      <td>506409.861051</td>\n",
       "      <td>450771.162486</td>\n",
       "      <td>342789.168570</td>\n",
       "      <td>229297.316997</td>\n",
       "    </tr>\n",
       "    <tr>\n",
       "      <th>MSE principal nan columns</th>\n",
       "      <td>182.170035</td>\n",
       "      <td>40.840061</td>\n",
       "      <td>21.804503</td>\n",
       "      <td>14.035731</td>\n",
       "      <td>14.532440</td>\n",
       "      <td>9.149939</td>\n",
       "      <td>8.202294</td>\n",
       "      <td>8.609428</td>\n",
       "      <td>7.093426</td>\n",
       "      <td>8.759611</td>\n",
       "      <td>7.777944</td>\n",
       "      <td>1.709760</td>\n",
       "      <td>1.813783</td>\n",
       "      <td>0.988433</td>\n",
       "      <td>1.082667</td>\n",
       "    </tr>\n",
       "  </tbody>\n",
       "</table>\n",
       "</div>"
      ],
      "text/plain": [
       "                                   k = 1          k = 2          k = 3  \\\n",
       "MSE                        160378.416916  155026.945165  163658.790773   \n",
       "MSE principal nan columns     182.170035      40.840061      21.804503   \n",
       "\n",
       "                                   k = 4          k = 5          k = 6  \\\n",
       "MSE                        245606.091246  324940.739416  491435.656825   \n",
       "MSE principal nan columns      14.035731      14.532440       9.149939   \n",
       "\n",
       "                                   k = 7          k = 8          k = 9  \\\n",
       "MSE                        692037.985366  596214.926151  548814.666080   \n",
       "MSE principal nan columns       8.202294       8.609428       7.093426   \n",
       "\n",
       "                                  k = 10         k = 11         k = 12  \\\n",
       "MSE                        498597.318855  550270.546815  506409.861051   \n",
       "MSE principal nan columns       8.759611       7.777944       1.709760   \n",
       "\n",
       "                                  k = 13         k = 14         k = 15  \n",
       "MSE                        450771.162486  342789.168570  229297.316997  \n",
       "MSE principal nan columns       1.813783       0.988433       1.082667  "
      ]
     },
     "execution_count": 158,
     "metadata": {},
     "output_type": "execute_result"
    }
   ],
   "source": [
    "df_errors"
   ]
  },
  {
   "cell_type": "code",
   "execution_count": 159,
   "metadata": {},
   "outputs": [],
   "source": [
    "df_errors.to_csv(\"mse_.csv\")"
   ]
  },
  {
   "cell_type": "code",
   "execution_count": 160,
   "metadata": {},
   "outputs": [
    {
     "data": {
      "application/vnd.plotly.v1+json": {
       "config": {
        "plotlyServerURL": "https://plot.ly"
       },
       "data": [
        {
         "alignmentgroup": "True",
         "hovertemplate": "variable=MSE<br>index=%{x}<br>value=%{y}<extra></extra>",
         "legendgroup": "MSE",
         "marker": {
          "color": "#636efa",
          "pattern": {
           "shape": ""
          }
         },
         "name": "MSE",
         "offsetgroup": "MSE",
         "orientation": "v",
         "showlegend": true,
         "textposition": "auto",
         "type": "bar",
         "x": [
          "k = 1",
          "k = 2",
          "k = 3",
          "k = 4",
          "k = 5",
          "k = 6",
          "k = 7",
          "k = 8",
          "k = 9",
          "k = 10",
          "k = 11",
          "k = 12",
          "k = 13",
          "k = 14",
          "k = 15"
         ],
         "xaxis": "x",
         "y": [
          160378.41691635567,
          155026.94516537216,
          163658.790773146,
          245606.09124601123,
          324940.7394162503,
          491435.6568254553,
          692037.9853661237,
          596214.9261507913,
          548814.6660798108,
          498597.3188552557,
          550270.5468154926,
          506409.86105114495,
          450771.16248582816,
          342789.16857001104,
          229297.3169967596
         ],
         "yaxis": "y"
        },
        {
         "alignmentgroup": "True",
         "hovertemplate": "variable=MSE principal nan columns<br>index=%{x}<br>value=%{y}<extra></extra>",
         "legendgroup": "MSE principal nan columns",
         "marker": {
          "color": "#EF553B",
          "pattern": {
           "shape": ""
          }
         },
         "name": "MSE principal nan columns",
         "offsetgroup": "MSE principal nan columns",
         "orientation": "v",
         "showlegend": true,
         "textposition": "auto",
         "type": "bar",
         "x": [
          "k = 1",
          "k = 2",
          "k = 3",
          "k = 4",
          "k = 5",
          "k = 6",
          "k = 7",
          "k = 8",
          "k = 9",
          "k = 10",
          "k = 11",
          "k = 12",
          "k = 13",
          "k = 14",
          "k = 15"
         ],
         "xaxis": "x",
         "y": [
          182.17003502218668,
          40.84006114304241,
          21.804503079344745,
          14.035730893629959,
          14.532439698388812,
          9.149938720406029,
          8.202293711592054,
          8.609428177067619,
          7.093426269853906,
          8.75961072984486,
          7.777943931752682,
          1.7097604555815895,
          1.8137825836492771,
          0.988432879967085,
          1.0826666103805633
         ],
         "yaxis": "y"
        }
       ],
       "layout": {
        "barmode": "group",
        "legend": {
         "title": {
          "text": "variable"
         },
         "tracegroupgap": 0
        },
        "template": {
         "data": {
          "bar": [
           {
            "error_x": {
             "color": "#2a3f5f"
            },
            "error_y": {
             "color": "#2a3f5f"
            },
            "marker": {
             "line": {
              "color": "#E5ECF6",
              "width": 0.5
             },
             "pattern": {
              "fillmode": "overlay",
              "size": 10,
              "solidity": 0.2
             }
            },
            "type": "bar"
           }
          ],
          "barpolar": [
           {
            "marker": {
             "line": {
              "color": "#E5ECF6",
              "width": 0.5
             },
             "pattern": {
              "fillmode": "overlay",
              "size": 10,
              "solidity": 0.2
             }
            },
            "type": "barpolar"
           }
          ],
          "carpet": [
           {
            "aaxis": {
             "endlinecolor": "#2a3f5f",
             "gridcolor": "white",
             "linecolor": "white",
             "minorgridcolor": "white",
             "startlinecolor": "#2a3f5f"
            },
            "baxis": {
             "endlinecolor": "#2a3f5f",
             "gridcolor": "white",
             "linecolor": "white",
             "minorgridcolor": "white",
             "startlinecolor": "#2a3f5f"
            },
            "type": "carpet"
           }
          ],
          "choropleth": [
           {
            "colorbar": {
             "outlinewidth": 0,
             "ticks": ""
            },
            "type": "choropleth"
           }
          ],
          "contour": [
           {
            "colorbar": {
             "outlinewidth": 0,
             "ticks": ""
            },
            "colorscale": [
             [
              0,
              "#0d0887"
             ],
             [
              0.1111111111111111,
              "#46039f"
             ],
             [
              0.2222222222222222,
              "#7201a8"
             ],
             [
              0.3333333333333333,
              "#9c179e"
             ],
             [
              0.4444444444444444,
              "#bd3786"
             ],
             [
              0.5555555555555556,
              "#d8576b"
             ],
             [
              0.6666666666666666,
              "#ed7953"
             ],
             [
              0.7777777777777778,
              "#fb9f3a"
             ],
             [
              0.8888888888888888,
              "#fdca26"
             ],
             [
              1,
              "#f0f921"
             ]
            ],
            "type": "contour"
           }
          ],
          "contourcarpet": [
           {
            "colorbar": {
             "outlinewidth": 0,
             "ticks": ""
            },
            "type": "contourcarpet"
           }
          ],
          "heatmap": [
           {
            "colorbar": {
             "outlinewidth": 0,
             "ticks": ""
            },
            "colorscale": [
             [
              0,
              "#0d0887"
             ],
             [
              0.1111111111111111,
              "#46039f"
             ],
             [
              0.2222222222222222,
              "#7201a8"
             ],
             [
              0.3333333333333333,
              "#9c179e"
             ],
             [
              0.4444444444444444,
              "#bd3786"
             ],
             [
              0.5555555555555556,
              "#d8576b"
             ],
             [
              0.6666666666666666,
              "#ed7953"
             ],
             [
              0.7777777777777778,
              "#fb9f3a"
             ],
             [
              0.8888888888888888,
              "#fdca26"
             ],
             [
              1,
              "#f0f921"
             ]
            ],
            "type": "heatmap"
           }
          ],
          "heatmapgl": [
           {
            "colorbar": {
             "outlinewidth": 0,
             "ticks": ""
            },
            "colorscale": [
             [
              0,
              "#0d0887"
             ],
             [
              0.1111111111111111,
              "#46039f"
             ],
             [
              0.2222222222222222,
              "#7201a8"
             ],
             [
              0.3333333333333333,
              "#9c179e"
             ],
             [
              0.4444444444444444,
              "#bd3786"
             ],
             [
              0.5555555555555556,
              "#d8576b"
             ],
             [
              0.6666666666666666,
              "#ed7953"
             ],
             [
              0.7777777777777778,
              "#fb9f3a"
             ],
             [
              0.8888888888888888,
              "#fdca26"
             ],
             [
              1,
              "#f0f921"
             ]
            ],
            "type": "heatmapgl"
           }
          ],
          "histogram": [
           {
            "marker": {
             "pattern": {
              "fillmode": "overlay",
              "size": 10,
              "solidity": 0.2
             }
            },
            "type": "histogram"
           }
          ],
          "histogram2d": [
           {
            "colorbar": {
             "outlinewidth": 0,
             "ticks": ""
            },
            "colorscale": [
             [
              0,
              "#0d0887"
             ],
             [
              0.1111111111111111,
              "#46039f"
             ],
             [
              0.2222222222222222,
              "#7201a8"
             ],
             [
              0.3333333333333333,
              "#9c179e"
             ],
             [
              0.4444444444444444,
              "#bd3786"
             ],
             [
              0.5555555555555556,
              "#d8576b"
             ],
             [
              0.6666666666666666,
              "#ed7953"
             ],
             [
              0.7777777777777778,
              "#fb9f3a"
             ],
             [
              0.8888888888888888,
              "#fdca26"
             ],
             [
              1,
              "#f0f921"
             ]
            ],
            "type": "histogram2d"
           }
          ],
          "histogram2dcontour": [
           {
            "colorbar": {
             "outlinewidth": 0,
             "ticks": ""
            },
            "colorscale": [
             [
              0,
              "#0d0887"
             ],
             [
              0.1111111111111111,
              "#46039f"
             ],
             [
              0.2222222222222222,
              "#7201a8"
             ],
             [
              0.3333333333333333,
              "#9c179e"
             ],
             [
              0.4444444444444444,
              "#bd3786"
             ],
             [
              0.5555555555555556,
              "#d8576b"
             ],
             [
              0.6666666666666666,
              "#ed7953"
             ],
             [
              0.7777777777777778,
              "#fb9f3a"
             ],
             [
              0.8888888888888888,
              "#fdca26"
             ],
             [
              1,
              "#f0f921"
             ]
            ],
            "type": "histogram2dcontour"
           }
          ],
          "mesh3d": [
           {
            "colorbar": {
             "outlinewidth": 0,
             "ticks": ""
            },
            "type": "mesh3d"
           }
          ],
          "parcoords": [
           {
            "line": {
             "colorbar": {
              "outlinewidth": 0,
              "ticks": ""
             }
            },
            "type": "parcoords"
           }
          ],
          "pie": [
           {
            "automargin": true,
            "type": "pie"
           }
          ],
          "scatter": [
           {
            "marker": {
             "colorbar": {
              "outlinewidth": 0,
              "ticks": ""
             }
            },
            "type": "scatter"
           }
          ],
          "scatter3d": [
           {
            "line": {
             "colorbar": {
              "outlinewidth": 0,
              "ticks": ""
             }
            },
            "marker": {
             "colorbar": {
              "outlinewidth": 0,
              "ticks": ""
             }
            },
            "type": "scatter3d"
           }
          ],
          "scattercarpet": [
           {
            "marker": {
             "colorbar": {
              "outlinewidth": 0,
              "ticks": ""
             }
            },
            "type": "scattercarpet"
           }
          ],
          "scattergeo": [
           {
            "marker": {
             "colorbar": {
              "outlinewidth": 0,
              "ticks": ""
             }
            },
            "type": "scattergeo"
           }
          ],
          "scattergl": [
           {
            "marker": {
             "colorbar": {
              "outlinewidth": 0,
              "ticks": ""
             }
            },
            "type": "scattergl"
           }
          ],
          "scattermapbox": [
           {
            "marker": {
             "colorbar": {
              "outlinewidth": 0,
              "ticks": ""
             }
            },
            "type": "scattermapbox"
           }
          ],
          "scatterpolar": [
           {
            "marker": {
             "colorbar": {
              "outlinewidth": 0,
              "ticks": ""
             }
            },
            "type": "scatterpolar"
           }
          ],
          "scatterpolargl": [
           {
            "marker": {
             "colorbar": {
              "outlinewidth": 0,
              "ticks": ""
             }
            },
            "type": "scatterpolargl"
           }
          ],
          "scatterternary": [
           {
            "marker": {
             "colorbar": {
              "outlinewidth": 0,
              "ticks": ""
             }
            },
            "type": "scatterternary"
           }
          ],
          "surface": [
           {
            "colorbar": {
             "outlinewidth": 0,
             "ticks": ""
            },
            "colorscale": [
             [
              0,
              "#0d0887"
             ],
             [
              0.1111111111111111,
              "#46039f"
             ],
             [
              0.2222222222222222,
              "#7201a8"
             ],
             [
              0.3333333333333333,
              "#9c179e"
             ],
             [
              0.4444444444444444,
              "#bd3786"
             ],
             [
              0.5555555555555556,
              "#d8576b"
             ],
             [
              0.6666666666666666,
              "#ed7953"
             ],
             [
              0.7777777777777778,
              "#fb9f3a"
             ],
             [
              0.8888888888888888,
              "#fdca26"
             ],
             [
              1,
              "#f0f921"
             ]
            ],
            "type": "surface"
           }
          ],
          "table": [
           {
            "cells": {
             "fill": {
              "color": "#EBF0F8"
             },
             "line": {
              "color": "white"
             }
            },
            "header": {
             "fill": {
              "color": "#C8D4E3"
             },
             "line": {
              "color": "white"
             }
            },
            "type": "table"
           }
          ]
         },
         "layout": {
          "annotationdefaults": {
           "arrowcolor": "#2a3f5f",
           "arrowhead": 0,
           "arrowwidth": 1
          },
          "autotypenumbers": "strict",
          "coloraxis": {
           "colorbar": {
            "outlinewidth": 0,
            "ticks": ""
           }
          },
          "colorscale": {
           "diverging": [
            [
             0,
             "#8e0152"
            ],
            [
             0.1,
             "#c51b7d"
            ],
            [
             0.2,
             "#de77ae"
            ],
            [
             0.3,
             "#f1b6da"
            ],
            [
             0.4,
             "#fde0ef"
            ],
            [
             0.5,
             "#f7f7f7"
            ],
            [
             0.6,
             "#e6f5d0"
            ],
            [
             0.7,
             "#b8e186"
            ],
            [
             0.8,
             "#7fbc41"
            ],
            [
             0.9,
             "#4d9221"
            ],
            [
             1,
             "#276419"
            ]
           ],
           "sequential": [
            [
             0,
             "#0d0887"
            ],
            [
             0.1111111111111111,
             "#46039f"
            ],
            [
             0.2222222222222222,
             "#7201a8"
            ],
            [
             0.3333333333333333,
             "#9c179e"
            ],
            [
             0.4444444444444444,
             "#bd3786"
            ],
            [
             0.5555555555555556,
             "#d8576b"
            ],
            [
             0.6666666666666666,
             "#ed7953"
            ],
            [
             0.7777777777777778,
             "#fb9f3a"
            ],
            [
             0.8888888888888888,
             "#fdca26"
            ],
            [
             1,
             "#f0f921"
            ]
           ],
           "sequentialminus": [
            [
             0,
             "#0d0887"
            ],
            [
             0.1111111111111111,
             "#46039f"
            ],
            [
             0.2222222222222222,
             "#7201a8"
            ],
            [
             0.3333333333333333,
             "#9c179e"
            ],
            [
             0.4444444444444444,
             "#bd3786"
            ],
            [
             0.5555555555555556,
             "#d8576b"
            ],
            [
             0.6666666666666666,
             "#ed7953"
            ],
            [
             0.7777777777777778,
             "#fb9f3a"
            ],
            [
             0.8888888888888888,
             "#fdca26"
            ],
            [
             1,
             "#f0f921"
            ]
           ]
          },
          "colorway": [
           "#636efa",
           "#EF553B",
           "#00cc96",
           "#ab63fa",
           "#FFA15A",
           "#19d3f3",
           "#FF6692",
           "#B6E880",
           "#FF97FF",
           "#FECB52"
          ],
          "font": {
           "color": "#2a3f5f"
          },
          "geo": {
           "bgcolor": "white",
           "lakecolor": "white",
           "landcolor": "#E5ECF6",
           "showlakes": true,
           "showland": true,
           "subunitcolor": "white"
          },
          "hoverlabel": {
           "align": "left"
          },
          "hovermode": "closest",
          "mapbox": {
           "style": "light"
          },
          "paper_bgcolor": "white",
          "plot_bgcolor": "#E5ECF6",
          "polar": {
           "angularaxis": {
            "gridcolor": "white",
            "linecolor": "white",
            "ticks": ""
           },
           "bgcolor": "#E5ECF6",
           "radialaxis": {
            "gridcolor": "white",
            "linecolor": "white",
            "ticks": ""
           }
          },
          "scene": {
           "xaxis": {
            "backgroundcolor": "#E5ECF6",
            "gridcolor": "white",
            "gridwidth": 2,
            "linecolor": "white",
            "showbackground": true,
            "ticks": "",
            "zerolinecolor": "white"
           },
           "yaxis": {
            "backgroundcolor": "#E5ECF6",
            "gridcolor": "white",
            "gridwidth": 2,
            "linecolor": "white",
            "showbackground": true,
            "ticks": "",
            "zerolinecolor": "white"
           },
           "zaxis": {
            "backgroundcolor": "#E5ECF6",
            "gridcolor": "white",
            "gridwidth": 2,
            "linecolor": "white",
            "showbackground": true,
            "ticks": "",
            "zerolinecolor": "white"
           }
          },
          "shapedefaults": {
           "line": {
            "color": "#2a3f5f"
           }
          },
          "ternary": {
           "aaxis": {
            "gridcolor": "white",
            "linecolor": "white",
            "ticks": ""
           },
           "baxis": {
            "gridcolor": "white",
            "linecolor": "white",
            "ticks": ""
           },
           "bgcolor": "#E5ECF6",
           "caxis": {
            "gridcolor": "white",
            "linecolor": "white",
            "ticks": ""
           }
          },
          "title": {
           "x": 0.05
          },
          "xaxis": {
           "automargin": true,
           "gridcolor": "white",
           "linecolor": "white",
           "ticks": "",
           "title": {
            "standoff": 15
           },
           "zerolinecolor": "white",
           "zerolinewidth": 2
          },
          "yaxis": {
           "automargin": true,
           "gridcolor": "white",
           "linecolor": "white",
           "ticks": "",
           "title": {
            "standoff": 15
           },
           "zerolinecolor": "white",
           "zerolinewidth": 2
          }
         }
        },
        "title": {
         "text": "Mean squared errors (log scale)"
        },
        "xaxis": {
         "anchor": "y",
         "domain": [
          0,
          1
         ],
         "title": {
          "text": "index"
         }
        },
        "yaxis": {
         "anchor": "x",
         "domain": [
          0,
          1
         ],
         "title": {
          "text": "value"
         },
         "type": "log"
        }
       }
      }
     },
     "metadata": {},
     "output_type": "display_data"
    }
   ],
   "source": [
    "fig = px.bar(df_errors.transpose(),log_y=True, barmode=\"group\",title=\"Mean squared errors (log scale)\")\n",
    "fig.show()\n",
    "fig.write_html(\"Mean_squared_errors_log_scale.html\")"
   ]
  },
  {
   "cell_type": "markdown",
   "metadata": {},
   "source": [
    "# Clear trend! Greater k less the imputer's errors. Repeat the test n times for more robustness\n",
    "# This method could be applied on more k values, and can be extended on other imputers"
   ]
  },
  {
   "cell_type": "code",
   "execution_count": null,
   "metadata": {},
   "outputs": [],
   "source": []
  },
  {
   "cell_type": "code",
   "execution_count": null,
   "metadata": {},
   "outputs": [],
   "source": []
  },
  {
   "cell_type": "code",
   "execution_count": null,
   "metadata": {},
   "outputs": [],
   "source": []
  },
  {
   "cell_type": "code",
   "execution_count": null,
   "metadata": {},
   "outputs": [],
   "source": []
  },
  {
   "cell_type": "code",
   "execution_count": null,
   "metadata": {},
   "outputs": [],
   "source": []
  },
  {
   "cell_type": "code",
   "execution_count": null,
   "metadata": {},
   "outputs": [],
   "source": []
  },
  {
   "cell_type": "code",
   "execution_count": null,
   "metadata": {},
   "outputs": [],
   "source": []
  }
 ],
 "metadata": {
  "interpreter": {
   "hash": "916dbcbb3f70747c44a77c7bcd40155683ae19c65e1c03b4aa3499c5328201f1"
  },
  "kernelspec": {
   "display_name": "Python 3.8.10 64-bit",
   "language": "python",
   "name": "python3"
  },
  "language_info": {
   "codemirror_mode": {
    "name": "ipython",
    "version": 3
   },
   "file_extension": ".py",
   "mimetype": "text/x-python",
   "name": "python",
   "nbconvert_exporter": "python",
   "pygments_lexer": "ipython3",
   "version": "3.8.10"
  },
  "orig_nbformat": 4
 },
 "nbformat": 4,
 "nbformat_minor": 2
}
